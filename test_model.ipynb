{
 "cells": [
  {
   "cell_type": "code",
   "execution_count": 53,
   "metadata": {},
   "outputs": [],
   "source": [
    "import torch\n",
    "from pathlib import Path\n",
    "import numpy as np\n",
    "\n",
    "from cnn4 import CNN4\n",
    "from datamodule import Datamodule\n",
    "from params import LocationConfig, TrainingConfig"
   ]
  },
  {
   "cell_type": "code",
   "execution_count": 21,
   "metadata": {},
   "outputs": [],
   "source": [
    "cnn4 = CNN4()\n",
    "state_dict = torch.load(LocationConfig.best_model)\n",
    "cnn4.load_state_dict(state_dict)\n",
    "cnn4.eval();"
   ]
  },
  {
   "cell_type": "code",
   "execution_count": 29,
   "metadata": {},
   "outputs": [
    {
     "name": "stdout",
     "output_type": "stream",
     "text": [
      "file: data/train/train_clselfie_v7_3.pickle\n",
      "file: data/train/train_clselfie_v7_1.pickle\n",
      "file: data/train/train_clselfie_v7_2.pickle\n",
      "file: data/test/test_clselfie_v7.pickle\n"
     ]
    }
   ],
   "source": [
    "train_data_path = Path(LocationConfig.train_data)\n",
    "test_data_path = Path(LocationConfig.test_data)\n",
    "dm = Datamodule(\n",
    "        batch_size=TrainingConfig.batch_size,\n",
    "        train_dir=train_data_path,\n",
    "        val_dir=test_data_path,\n",
    "        )\n",
    "dm.setup()"
   ]
  },
  {
   "cell_type": "code",
   "execution_count": 107,
   "metadata": {},
   "outputs": [
    {
     "name": "stdout",
     "output_type": "stream",
     "text": [
      "[0.4680323  0.60020933 0.69246038 0.57286558 0.60105786]\n",
      "0.5869250897129186\n"
     ]
    }
   ],
   "source": [
    "acc_class_global = np.zeros(5)\n",
    "i=0\n",
    "for batch in dm.val_dataloader():\n",
    "    limit = 4/7\n",
    "    X, Y = batch\n",
    "    Y_pred = cnn4.predict_step(X, None)\n",
    "    Y_pred = np.where(Y_pred > limit, 1, 0)\n",
    "    acc_class = np.sum(Y_pred == Y, axis=0) / len(Y)\n",
    "    acc_class_global += acc_class\n",
    "    i+=1\n",
    "acc_class_global /= i\n",
    "print(acc_class_global)\n",
    "print(acc_class_global.mean())"
   ]
  }
 ],
 "metadata": {
  "interpreter": {
   "hash": "17c86be10898ce801771adcf76c16a8364cc4401ea312904bbbb2c75f131c156"
  },
  "kernelspec": {
   "display_name": "Python 3.8.5 ('ur')",
   "language": "python",
   "name": "python3"
  },
  "language_info": {
   "codemirror_mode": {
    "name": "ipython",
    "version": 3
   },
   "file_extension": ".py",
   "mimetype": "text/x-python",
   "name": "python",
   "nbconvert_exporter": "python",
   "pygments_lexer": "ipython3",
   "version": "3.8.5"
  },
  "orig_nbformat": 4
 },
 "nbformat": 4,
 "nbformat_minor": 2
}
