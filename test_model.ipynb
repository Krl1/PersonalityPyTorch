{
 "cells": [
  {
   "cell_type": "code",
   "execution_count": 1,
   "metadata": {},
   "outputs": [],
   "source": [
    "import torch\n",
    "from pathlib import Path\n",
    "import numpy as np\n",
    "from tqdm import tqdm\n",
    "\n",
    "from cnn4 import CNN4\n",
    "from datamodule import Datamodule\n",
    "from params import LocationConfig, TrainingConfig"
   ]
  },
  {
   "cell_type": "code",
   "execution_count": 10,
   "metadata": {},
   "outputs": [],
   "source": [
    "import pickle\n",
    "pic = pickle.load(open('data/test/test_clselfie_v7.pickle', 'rb'))"
   ]
  },
  {
   "cell_type": "code",
   "execution_count": 7,
   "metadata": {},
   "outputs": [
    {
     "data": {
      "text/plain": [
       "'tdata/testedata/testsdata/testtdata/test_data/testcdata/testldata/testsdata/testedata/testldata/testfdata/testidata/testedata/test_data/testvdata/test7data/test.data/testpdata/testidata/testcdata/testkdata/testldata/teste'"
      ]
     },
     "execution_count": 7,
     "metadata": {},
     "output_type": "execute_result"
    }
   ],
   "source": [
    "LocationConfig.test_data.join('test_clselfie_v7.pickle')"
   ]
  },
  {
   "cell_type": "code",
   "execution_count": 2,
   "metadata": {},
   "outputs": [],
   "source": [
    "cnn4 = CNN4(lr=TrainingConfig.lr)\n",
    "state_dict = torch.load(LocationConfig.best_model)\n",
    "cnn4.load_state_dict(state_dict)\n",
    "cnn4.eval();"
   ]
  },
  {
   "cell_type": "code",
   "execution_count": 3,
   "metadata": {},
   "outputs": [],
   "source": [
    "checkpoints_dir = Path(LocationConfig.checkpoints_dir)\n",
    "list_of_checkpoints = list(checkpoints_dir.glob(\"*.ckpt\"))\n",
    "latest_checkpoint_path = max(list_of_checkpoints, key=lambda p: p.stat().st_ctime)\n",
    "\n",
    "lightning_model = CNN4(lr=TrainingConfig.lr)\n",
    "lightning_model.load_from_checkpoint(latest_checkpoint_path)\n",
    "lightning_model.eval();"
   ]
  },
  {
   "cell_type": "code",
   "execution_count": 4,
   "metadata": {},
   "outputs": [
    {
     "name": "stdout",
     "output_type": "stream",
     "text": [
      "file: data/test/test_clselfie_v7.pickle\n"
     ]
    }
   ],
   "source": [
    "train_data_path = Path(LocationConfig.train_data)\n",
    "test_data_path = Path(LocationConfig.test_data)\n",
    "dm = Datamodule(\n",
    "        batch_size=TrainingConfig.batch_size,\n",
    "        train_dir=train_data_path,\n",
    "        val_dir=test_data_path,\n",
    "        )\n",
    "dm.setup(val_only=True)"
   ]
  },
  {
   "cell_type": "code",
   "execution_count": 5,
   "metadata": {},
   "outputs": [
    {
     "name": "stderr",
     "output_type": "stream",
     "text": [
      "100%|██████████| 22/22 [01:14<00:00,  3.41s/it]"
     ]
    },
    {
     "name": "stdout",
     "output_type": "stream",
     "text": [
      "[0.4680323  0.60020933 0.69246038 0.57286558 0.60105786]\n",
      "0.5869250897129186\n"
     ]
    },
    {
     "name": "stderr",
     "output_type": "stream",
     "text": [
      "\n"
     ]
    }
   ],
   "source": [
    "acc_class_global = np.zeros(5)\n",
    "i=0\n",
    "for batch in tqdm(dm.val_dataloader()):\n",
    "    limit = 4/7\n",
    "    X, Y = batch\n",
    "    Y_pred = cnn4.predict_step(X, None)\n",
    "    Y_pred = np.where(Y_pred > limit, 1, 0)\n",
    "    acc_class = np.sum(Y_pred == Y, axis=0) / len(Y)\n",
    "    acc_class_global += acc_class\n",
    "    i+=1\n",
    "acc_class_global /= i\n",
    "print(acc_class_global)\n",
    "print(acc_class_global.mean())"
   ]
  },
  {
   "cell_type": "code",
   "execution_count": 5,
   "metadata": {},
   "outputs": [
    {
     "ename": "ValueError",
     "evalue": "too many values to unpack (expected 2)",
     "output_type": "error",
     "traceback": [
      "\u001b[0;31m---------------------------------------------------------------------------\u001b[0m",
      "\u001b[0;31mValueError\u001b[0m                                Traceback (most recent call last)",
      "\u001b[0;32m<ipython-input-5-ce849dd222d3>\u001b[0m in \u001b[0;36m<module>\u001b[0;34m\u001b[0m\n\u001b[1;32m      1\u001b[0m \u001b[0;32mfor\u001b[0m \u001b[0mbatch\u001b[0m \u001b[0;32min\u001b[0m \u001b[0mdm\u001b[0m\u001b[0;34m.\u001b[0m\u001b[0mval_dataloader\u001b[0m\u001b[0;34m(\u001b[0m\u001b[0;34m)\u001b[0m\u001b[0;34m:\u001b[0m\u001b[0;34m\u001b[0m\u001b[0;34m\u001b[0m\u001b[0m\n\u001b[1;32m      2\u001b[0m     \u001b[0mlimit\u001b[0m \u001b[0;34m=\u001b[0m \u001b[0;36m4\u001b[0m\u001b[0;34m/\u001b[0m\u001b[0;36m7\u001b[0m\u001b[0;34m\u001b[0m\u001b[0;34m\u001b[0m\u001b[0m\n\u001b[0;32m----> 3\u001b[0;31m     \u001b[0mX\u001b[0m\u001b[0;34m,\u001b[0m \u001b[0mY\u001b[0m \u001b[0;34m=\u001b[0m \u001b[0mbatch\u001b[0m\u001b[0;34m\u001b[0m\u001b[0;34m\u001b[0m\u001b[0m\n\u001b[0m\u001b[1;32m      4\u001b[0m     \u001b[0mY_pred\u001b[0m \u001b[0;34m=\u001b[0m \u001b[0mcnn4\u001b[0m\u001b[0;34m.\u001b[0m\u001b[0mpredict_step\u001b[0m\u001b[0;34m(\u001b[0m\u001b[0mX\u001b[0m\u001b[0;34m,\u001b[0m \u001b[0;32mNone\u001b[0m\u001b[0;34m)\u001b[0m\u001b[0;34m\u001b[0m\u001b[0;34m\u001b[0m\u001b[0m\n\u001b[1;32m      5\u001b[0m     \u001b[0;32mbreak\u001b[0m\u001b[0;34m\u001b[0m\u001b[0;34m\u001b[0m\u001b[0m\n",
      "\u001b[0;31mValueError\u001b[0m: too many values to unpack (expected 2)"
     ]
    }
   ],
   "source": [
    "for batch in dm.val_dataloader():\n",
    "    limit = 4/7\n",
    "    X, Y = batch\n",
    "    Y_pred = cnn4.predict_step(X, None)\n",
    "    break"
   ]
  },
  {
   "cell_type": "code",
   "execution_count": 8,
   "metadata": {},
   "outputs": [
    {
     "data": {
      "text/plain": [
       "dict_keys(['original', 'normalized', 'label'])"
      ]
     },
     "execution_count": 8,
     "metadata": {},
     "output_type": "execute_result"
    }
   ],
   "source": [
    "batch.keys()"
   ]
  },
  {
   "cell_type": "code",
   "execution_count": 11,
   "metadata": {},
   "outputs": [
    {
     "data": {
      "text/plain": [
       "tensor([[1, 1, 1, 0, 1],\n",
       "        [1, 0, 0, 1, 0],\n",
       "        [0, 0, 0, 0, 0],\n",
       "        [0, 0, 0, 0, 0],\n",
       "        [0, 0, 0, 0, 0],\n",
       "        [0, 0, 0, 0, 0],\n",
       "        [1, 1, 1, 1, 1],\n",
       "        [1, 1, 1, 1, 1],\n",
       "        [1, 1, 1, 0, 1],\n",
       "        [1, 1, 0, 1, 0],\n",
       "        [0, 0, 0, 0, 0],\n",
       "        [0, 1, 0, 1, 1],\n",
       "        [0, 1, 0, 0, 0],\n",
       "        [1, 0, 0, 0, 0],\n",
       "        [1, 1, 1, 0, 1],\n",
       "        [1, 1, 1, 1, 1],\n",
       "        [1, 1, 1, 1, 1],\n",
       "        [1, 1, 1, 1, 1],\n",
       "        [1, 1, 1, 1, 1],\n",
       "        [0, 0, 0, 0, 0],\n",
       "        [0, 0, 0, 0, 0],\n",
       "        [1, 1, 1, 1, 1],\n",
       "        [0, 1, 0, 0, 0],\n",
       "        [1, 1, 0, 0, 0],\n",
       "        [1, 1, 1, 1, 1],\n",
       "        [1, 1, 0, 0, 1],\n",
       "        [1, 0, 0, 0, 0],\n",
       "        [1, 0, 0, 0, 0],\n",
       "        [1, 0, 0, 0, 0],\n",
       "        [1, 0, 0, 1, 0],\n",
       "        [1, 0, 1, 0, 1],\n",
       "        [1, 1, 0, 0, 0],\n",
       "        [0, 0, 0, 0, 0],\n",
       "        [0, 0, 0, 0, 0],\n",
       "        [0, 0, 0, 0, 0],\n",
       "        [0, 0, 0, 0, 0],\n",
       "        [1, 1, 1, 0, 1],\n",
       "        [0, 0, 0, 1, 1],\n",
       "        [1, 0, 0, 0, 0],\n",
       "        [1, 1, 1, 1, 1],\n",
       "        [0, 0, 0, 0, 0],\n",
       "        [1, 0, 0, 1, 0],\n",
       "        [0, 0, 0, 0, 0],\n",
       "        [1, 1, 1, 1, 1],\n",
       "        [0, 0, 0, 0, 0],\n",
       "        [0, 0, 0, 0, 0],\n",
       "        [1, 0, 0, 1, 0],\n",
       "        [0, 1, 0, 0, 0],\n",
       "        [0, 0, 0, 0, 0],\n",
       "        [1, 0, 0, 0, 1],\n",
       "        [0, 1, 0, 1, 0],\n",
       "        [0, 0, 0, 0, 0],\n",
       "        [0, 1, 0, 1, 1],\n",
       "        [0, 1, 0, 0, 0],\n",
       "        [1, 0, 0, 0, 1],\n",
       "        [0, 0, 0, 0, 0],\n",
       "        [1, 0, 0, 1, 1],\n",
       "        [1, 1, 1, 1, 1],\n",
       "        [1, 1, 1, 1, 1],\n",
       "        [1, 1, 0, 1, 1],\n",
       "        [1, 0, 0, 0, 0],\n",
       "        [1, 1, 1, 1, 1],\n",
       "        [1, 0, 0, 0, 0],\n",
       "        [1, 1, 1, 1, 1],\n",
       "        [0, 1, 0, 0, 0],\n",
       "        [0, 0, 0, 0, 0],\n",
       "        [1, 1, 1, 1, 1],\n",
       "        [1, 0, 0, 1, 0],\n",
       "        [1, 1, 1, 1, 1],\n",
       "        [1, 0, 0, 0, 1],\n",
       "        [0, 0, 0, 0, 0],\n",
       "        [0, 0, 0, 0, 0],\n",
       "        [1, 0, 0, 1, 1],\n",
       "        [1, 0, 0, 0, 1],\n",
       "        [0, 0, 0, 0, 0],\n",
       "        [1, 0, 1, 1, 0],\n",
       "        [0, 0, 0, 0, 0],\n",
       "        [1, 0, 1, 1, 1],\n",
       "        [1, 1, 1, 0, 1],\n",
       "        [0, 0, 0, 0, 0],\n",
       "        [0, 0, 0, 0, 0],\n",
       "        [0, 0, 0, 0, 0],\n",
       "        [0, 0, 0, 0, 0],\n",
       "        [0, 1, 0, 1, 1],\n",
       "        [1, 1, 1, 1, 1],\n",
       "        [0, 0, 0, 0, 0],\n",
       "        [1, 0, 1, 0, 1],\n",
       "        [0, 0, 0, 0, 0],\n",
       "        [1, 1, 0, 1, 1],\n",
       "        [0, 0, 0, 0, 0],\n",
       "        [0, 0, 0, 0, 0],\n",
       "        [0, 0, 0, 0, 0],\n",
       "        [0, 1, 0, 0, 0],\n",
       "        [0, 0, 0, 0, 0],\n",
       "        [1, 0, 0, 1, 0],\n",
       "        [1, 1, 1, 1, 0],\n",
       "        [0, 0, 0, 0, 0],\n",
       "        [0, 0, 1, 0, 1],\n",
       "        [1, 1, 1, 1, 1],\n",
       "        [0, 0, 0, 1, 0],\n",
       "        [0, 0, 0, 0, 0],\n",
       "        [1, 1, 1, 1, 1],\n",
       "        [1, 0, 0, 1, 1],\n",
       "        [0, 1, 0, 1, 0],\n",
       "        [1, 0, 1, 1, 1],\n",
       "        [1, 0, 1, 1, 0],\n",
       "        [1, 1, 1, 1, 1],\n",
       "        [1, 0, 0, 0, 0],\n",
       "        [1, 0, 1, 0, 1],\n",
       "        [0, 0, 0, 0, 1],\n",
       "        [0, 0, 0, 0, 0],\n",
       "        [1, 1, 1, 1, 0],\n",
       "        [0, 0, 0, 0, 0],\n",
       "        [0, 0, 0, 0, 0],\n",
       "        [1, 0, 1, 1, 0],\n",
       "        [0, 1, 0, 0, 0],\n",
       "        [1, 1, 1, 1, 1],\n",
       "        [1, 1, 1, 1, 1],\n",
       "        [1, 1, 0, 1, 1],\n",
       "        [1, 1, 0, 1, 1],\n",
       "        [1, 1, 1, 1, 1],\n",
       "        [0, 0, 0, 0, 0],\n",
       "        [1, 0, 1, 0, 1],\n",
       "        [0, 0, 0, 1, 0],\n",
       "        [1, 1, 1, 1, 1],\n",
       "        [1, 1, 0, 1, 0],\n",
       "        [0, 0, 0, 0, 0],\n",
       "        [0, 0, 0, 0, 0]])"
      ]
     },
     "execution_count": 11,
     "metadata": {},
     "output_type": "execute_result"
    }
   ],
   "source": [
    "batch['label']"
   ]
  }
 ],
 "metadata": {
  "interpreter": {
   "hash": "17c86be10898ce801771adcf76c16a8364cc4401ea312904bbbb2c75f131c156"
  },
  "kernelspec": {
   "display_name": "Python 3.8.5 ('ur')",
   "language": "python",
   "name": "python3"
  },
  "language_info": {
   "codemirror_mode": {
    "name": "ipython",
    "version": 3
   },
   "file_extension": ".py",
   "mimetype": "text/x-python",
   "name": "python",
   "nbconvert_exporter": "python",
   "pygments_lexer": "ipython3",
   "version": "3.8.5"
  },
  "orig_nbformat": 4
 },
 "nbformat": 4,
 "nbformat_minor": 2
}
