{
 "cells": [
  {
   "cell_type": "code",
   "execution_count": 1,
   "metadata": {},
   "outputs": [],
   "source": [
    "import torch\n",
    "from glob import glob\n",
    "from pathlib import Path\n",
    "import numpy as np\n",
    "from tqdm import tqdm\n",
    "import cv2\n",
    "from cnn4 import CNN4\n",
    "from datamodule import Datamodule\n",
    "from params import LocationConfig, TrainingConfig\n",
    "from torch.nn import functional as F\n",
    "import torchvision.transforms as transforms\n",
    "from torchsummary import summary"
   ]
  },
  {
   "cell_type": "code",
   "execution_count": 2,
   "metadata": {},
   "outputs": [
    {
     "name": "stdout",
     "output_type": "stream",
     "text": [
      "----------------------------------------------------------------\n",
      "        Layer (type)               Output Shape         Param #\n",
      "================================================================\n",
      "            Conv2d-1         [-1, 16, 208, 208]             160\n",
      "       BatchNorm2d-2         [-1, 16, 208, 208]              32\n",
      "              ReLU-3         [-1, 16, 208, 208]               0\n",
      "           Dropout-4         [-1, 16, 208, 208]               0\n",
      "         MaxPool2d-5         [-1, 16, 104, 104]               0\n",
      "            Conv2d-6         [-1, 32, 104, 104]           4,640\n",
      "       BatchNorm2d-7         [-1, 32, 104, 104]              64\n",
      "           Dropout-8         [-1, 32, 104, 104]               0\n",
      "         MaxPool2d-9           [-1, 32, 52, 52]               0\n",
      "           Conv2d-10           [-1, 64, 52, 52]          18,496\n",
      "      BatchNorm2d-11           [-1, 64, 52, 52]             128\n",
      "          Dropout-12           [-1, 64, 52, 52]               0\n",
      "        MaxPool2d-13           [-1, 64, 26, 26]               0\n",
      "           Conv2d-14          [-1, 128, 26, 26]          73,856\n",
      "      BatchNorm2d-15          [-1, 128, 26, 26]             256\n",
      "          Dropout-16          [-1, 128, 26, 26]               0\n",
      "        MaxPool2d-17          [-1, 128, 13, 13]               0\n",
      "           Conv2d-18          [-1, 256, 13, 13]         295,168\n",
      "      BatchNorm2d-19          [-1, 256, 13, 13]             512\n",
      "          Dropout-20          [-1, 256, 13, 13]               0\n",
      "        MaxPool2d-21            [-1, 256, 6, 6]               0\n",
      "           Conv2d-22            [-1, 512, 6, 6]       1,180,160\n",
      "      BatchNorm2d-23            [-1, 512, 6, 6]           1,024\n",
      "          Dropout-24            [-1, 512, 6, 6]               0\n",
      "        MaxPool2d-25            [-1, 512, 3, 3]               0\n",
      "           Conv2d-26           [-1, 1024, 3, 3]       4,719,616\n",
      "      BatchNorm2d-27           [-1, 1024, 3, 3]           2,048\n",
      "          Dropout-28           [-1, 1024, 3, 3]               0\n",
      "        MaxPool2d-29           [-1, 1024, 1, 1]               0\n",
      "          Flatten-30                 [-1, 1024]               0\n",
      "           Linear-31                  [-1, 128]         131,200\n",
      "      BatchNorm1d-32                  [-1, 128]             256\n",
      "             ReLU-33                  [-1, 128]               0\n",
      "           Linear-34                    [-1, 5]             645\n",
      "          Sigmoid-35                    [-1, 5]               0\n",
      "================================================================\n",
      "Total params: 6,428,261\n",
      "Trainable params: 6,428,261\n",
      "Non-trainable params: 0\n",
      "----------------------------------------------------------------\n",
      "Input size (MB): 0.17\n",
      "Forward/backward pass size (MB): 39.21\n",
      "Params size (MB): 24.52\n",
      "Estimated Total Size (MB): 63.90\n",
      "----------------------------------------------------------------\n"
     ]
    }
   ],
   "source": [
    "cnn4 = CNN4(lr=TrainingConfig.lr, batch_norm=True, sigmoid=True)\n",
    "summary(cnn4.cuda(), (208,208, 1) )"
   ]
  },
  {
   "cell_type": "code",
   "execution_count": 4,
   "metadata": {},
   "outputs": [
    {
     "ename": "TypeError",
     "evalue": "__init__() missing 2 required positional arguments: 'batch_norm' and 'sigmoid'",
     "output_type": "error",
     "traceback": [
      "\u001b[0;31m---------------------------------------------------------------------------\u001b[0m",
      "\u001b[0;31mTypeError\u001b[0m                                 Traceback (most recent call last)",
      "\u001b[0;32m<ipython-input-4-9cf606dfc05d>\u001b[0m in \u001b[0;36m<module>\u001b[0;34m\u001b[0m\n\u001b[1;32m      3\u001b[0m \u001b[0mlatest_checkpoint_path\u001b[0m \u001b[0;34m=\u001b[0m \u001b[0mmax\u001b[0m\u001b[0;34m(\u001b[0m\u001b[0mlist_of_checkpoints\u001b[0m\u001b[0;34m,\u001b[0m \u001b[0mkey\u001b[0m\u001b[0;34m=\u001b[0m\u001b[0;32mlambda\u001b[0m \u001b[0mp\u001b[0m\u001b[0;34m:\u001b[0m \u001b[0mp\u001b[0m\u001b[0;34m.\u001b[0m\u001b[0mstat\u001b[0m\u001b[0;34m(\u001b[0m\u001b[0;34m)\u001b[0m\u001b[0;34m.\u001b[0m\u001b[0mst_ctime\u001b[0m\u001b[0;34m)\u001b[0m\u001b[0;34m\u001b[0m\u001b[0;34m\u001b[0m\u001b[0m\n\u001b[1;32m      4\u001b[0m \u001b[0;34m\u001b[0m\u001b[0m\n\u001b[0;32m----> 5\u001b[0;31m \u001b[0mcnn4\u001b[0m \u001b[0;34m=\u001b[0m \u001b[0mCNN4\u001b[0m\u001b[0;34m(\u001b[0m\u001b[0mlr\u001b[0m\u001b[0;34m=\u001b[0m\u001b[0mTrainingConfig\u001b[0m\u001b[0;34m.\u001b[0m\u001b[0mlr\u001b[0m\u001b[0;34m,\u001b[0m \u001b[0mbatch_norm\u001b[0m\u001b[0;34m=\u001b[0m\u001b[0mTrainingConfig\u001b[0m\u001b[0;34m.\u001b[0m\u001b[0mbatch_norm\u001b[0m\u001b[0;34m,\u001b[0m \u001b[0msigmoid\u001b[0m\u001b[0;34m=\u001b[0m\u001b[0mTrainingConfig\u001b[0m\u001b[0;34m.\u001b[0m\u001b[0msigmoid\u001b[0m\u001b[0;34m)\u001b[0m\u001b[0;31m\\\u001b[0m\u001b[0;34m\u001b[0m\u001b[0;34m\u001b[0m\u001b[0m\n\u001b[0m\u001b[1;32m      6\u001b[0m     \u001b[0;34m.\u001b[0m\u001b[0mload_from_checkpoint\u001b[0m\u001b[0;34m(\u001b[0m\u001b[0mcheckpoint_path\u001b[0m\u001b[0;34m=\u001b[0m\u001b[0mlatest_checkpoint_path\u001b[0m\u001b[0;34m)\u001b[0m\u001b[0;34m\u001b[0m\u001b[0;34m\u001b[0m\u001b[0m\n\u001b[1;32m      7\u001b[0m \u001b[0mcnn4\u001b[0m\u001b[0;34m.\u001b[0m\u001b[0meval\u001b[0m\u001b[0;34m(\u001b[0m\u001b[0;34m)\u001b[0m\u001b[0;34m;\u001b[0m\u001b[0;34m\u001b[0m\u001b[0;34m\u001b[0m\u001b[0m\n",
      "\u001b[0;32m~/miniconda3/envs/ur/lib/python3.8/site-packages/pytorch_lightning/core/saving.py\u001b[0m in \u001b[0;36mload_from_checkpoint\u001b[0;34m(cls, checkpoint_path, map_location, hparams_file, strict, **kwargs)\u001b[0m\n\u001b[1;32m    154\u001b[0m         \u001b[0mcheckpoint\u001b[0m\u001b[0;34m[\u001b[0m\u001b[0mcls\u001b[0m\u001b[0;34m.\u001b[0m\u001b[0mCHECKPOINT_HYPER_PARAMS_KEY\u001b[0m\u001b[0;34m]\u001b[0m\u001b[0;34m.\u001b[0m\u001b[0mupdate\u001b[0m\u001b[0;34m(\u001b[0m\u001b[0mkwargs\u001b[0m\u001b[0;34m)\u001b[0m\u001b[0;34m\u001b[0m\u001b[0;34m\u001b[0m\u001b[0m\n\u001b[1;32m    155\u001b[0m \u001b[0;34m\u001b[0m\u001b[0m\n\u001b[0;32m--> 156\u001b[0;31m         \u001b[0mmodel\u001b[0m \u001b[0;34m=\u001b[0m \u001b[0mcls\u001b[0m\u001b[0;34m.\u001b[0m\u001b[0m_load_model_state\u001b[0m\u001b[0;34m(\u001b[0m\u001b[0mcheckpoint\u001b[0m\u001b[0;34m,\u001b[0m \u001b[0mstrict\u001b[0m\u001b[0;34m=\u001b[0m\u001b[0mstrict\u001b[0m\u001b[0;34m,\u001b[0m \u001b[0;34m**\u001b[0m\u001b[0mkwargs\u001b[0m\u001b[0;34m)\u001b[0m\u001b[0;34m\u001b[0m\u001b[0;34m\u001b[0m\u001b[0m\n\u001b[0m\u001b[1;32m    157\u001b[0m         \u001b[0;32mreturn\u001b[0m \u001b[0mmodel\u001b[0m\u001b[0;34m\u001b[0m\u001b[0;34m\u001b[0m\u001b[0m\n\u001b[1;32m    158\u001b[0m \u001b[0;34m\u001b[0m\u001b[0m\n",
      "\u001b[0;32m~/miniconda3/envs/ur/lib/python3.8/site-packages/pytorch_lightning/core/saving.py\u001b[0m in \u001b[0;36m_load_model_state\u001b[0;34m(cls, checkpoint, strict, **cls_kwargs_new)\u001b[0m\n\u001b[1;32m    196\u001b[0m             \u001b[0m_cls_kwargs\u001b[0m \u001b[0;34m=\u001b[0m \u001b[0;34m{\u001b[0m\u001b[0mk\u001b[0m\u001b[0;34m:\u001b[0m \u001b[0mv\u001b[0m \u001b[0;32mfor\u001b[0m \u001b[0mk\u001b[0m\u001b[0;34m,\u001b[0m \u001b[0mv\u001b[0m \u001b[0;32min\u001b[0m \u001b[0m_cls_kwargs\u001b[0m\u001b[0;34m.\u001b[0m\u001b[0mitems\u001b[0m\u001b[0;34m(\u001b[0m\u001b[0;34m)\u001b[0m \u001b[0;32mif\u001b[0m \u001b[0mk\u001b[0m \u001b[0;32min\u001b[0m \u001b[0mcls_init_args_name\u001b[0m\u001b[0;34m}\u001b[0m\u001b[0;34m\u001b[0m\u001b[0;34m\u001b[0m\u001b[0m\n\u001b[1;32m    197\u001b[0m \u001b[0;34m\u001b[0m\u001b[0m\n\u001b[0;32m--> 198\u001b[0;31m         \u001b[0mmodel\u001b[0m \u001b[0;34m=\u001b[0m \u001b[0mcls\u001b[0m\u001b[0;34m(\u001b[0m\u001b[0;34m**\u001b[0m\u001b[0m_cls_kwargs\u001b[0m\u001b[0;34m)\u001b[0m\u001b[0;34m\u001b[0m\u001b[0;34m\u001b[0m\u001b[0m\n\u001b[0m\u001b[1;32m    199\u001b[0m \u001b[0;34m\u001b[0m\u001b[0m\n\u001b[1;32m    200\u001b[0m         \u001b[0;31m# give model a chance to load something\u001b[0m\u001b[0;34m\u001b[0m\u001b[0;34m\u001b[0m\u001b[0;34m\u001b[0m\u001b[0m\n",
      "\u001b[0;31mTypeError\u001b[0m: __init__() missing 2 required positional arguments: 'batch_norm' and 'sigmoid'"
     ]
    }
   ],
   "source": [
    "checkpoints_dir = Path(LocationConfig.checkpoints_dir)\n",
    "list_of_checkpoints = list(checkpoints_dir.glob(\"*.ckpt\"))\n",
    "latest_checkpoint_path = max(list_of_checkpoints, key=lambda p: p.stat().st_ctime)\n",
    "\n",
    "cnn4 = CNN4(lr=TrainingConfig.lr, batch_norm=TrainingConfig.batch_norm, sigmoid=TrainingConfig.sigmoid)\\\n",
    "    .load_from_checkpoint(checkpoint_path=latest_checkpoint_path)\n",
    "cnn4.eval();\n",
    "cnn4.state_dict()['conv.conv_0.weight'][0]"
   ]
  },
  {
   "cell_type": "code",
   "execution_count": 6,
   "metadata": {},
   "outputs": [
    {
     "name": "stdout",
     "output_type": "stream",
     "text": [
      "file: new_data/train/train.pickle\n"
     ]
    },
    {
     "ename": "Error",
     "evalue": "Canceled future for execute_request message before replies were done",
     "output_type": "error",
     "traceback": [
      "Error: Canceled future for execute_request message before replies were done",
      "at t.KernelShellFutureHandler.dispose (/home/karol/.vscode/extensions/ms-toolsai.jupyter-2022.3.1000901801/out/extension.js:2:1204175)",
      "at /home/karol/.vscode/extensions/ms-toolsai.jupyter-2022.3.1000901801/out/extension.js:2:1223227",
      "at Map.forEach (<anonymous>)",
      "at v._clearKernelState (/home/karol/.vscode/extensions/ms-toolsai.jupyter-2022.3.1000901801/out/extension.js:2:1223212)",
      "at v.dispose (/home/karol/.vscode/extensions/ms-toolsai.jupyter-2022.3.1000901801/out/extension.js:2:1216694)",
      "at /home/karol/.vscode/extensions/ms-toolsai.jupyter-2022.3.1000901801/out/extension.js:2:533674",
      "at t.swallowExceptions (/home/karol/.vscode/extensions/ms-toolsai.jupyter-2022.3.1000901801/out/extension.js:2:913059)",
      "at dispose (/home/karol/.vscode/extensions/ms-toolsai.jupyter-2022.3.1000901801/out/extension.js:2:533652)",
      "at t.RawSession.dispose (/home/karol/.vscode/extensions/ms-toolsai.jupyter-2022.3.1000901801/out/extension.js:2:537330)",
      "at runMicrotasks (<anonymous>)",
      "at processTicksAndRejections (node:internal/process/task_queues:96:5)"
     ]
    }
   ],
   "source": [
    "train_data_path = Path(LocationConfig.new_data + 'train')\n",
    "test_data_path = Path(LocationConfig.new_data + 'test')\n",
    "dm = Datamodule(\n",
    "        batch_size=TrainingConfig.batch_size,\n",
    "        train_dir=train_data_path,\n",
    "        val_dir=test_data_path,\n",
    "        )\n",
    "# dm.setup(val_only=True)\n",
    "dm.setup()"
   ]
  },
  {
   "cell_type": "code",
   "execution_count": 12,
   "metadata": {},
   "outputs": [
    {
     "name": "stderr",
     "output_type": "stream",
     "text": [
      "100%|██████████| 1/1 [00:00<00:00,  1.27it/s]"
     ]
    },
    {
     "name": "stdout",
     "output_type": "stream",
     "text": [
      "[0.  0.5 0.5 0.5 0.5]\n",
      "0.4\n"
     ]
    },
    {
     "name": "stderr",
     "output_type": "stream",
     "text": [
      "\n"
     ]
    }
   ],
   "source": [
    "acc_class_global_12 = np.zeros(5)\n",
    "acc_class_global_47 = np.zeros(5)\n",
    "i=0\n",
    "for batch in tqdm(dm.val_dataloader()):\n",
    "    X, Y = batch['normalized'], batch['label']\n",
    "#     normalize = transforms.Normalize((X.mean()), (X.std()))\n",
    "#     X = normalize(X)\n",
    "    Y_pred = cnn4.predict_step(X, None)\n",
    "    Y_pred_12 = np.where(Y_pred > 1/2, 1, 0)\n",
    "    acc_class_12 = np.sum(Y_pred_12 == np.array(Y), axis=0) / len(Y)\n",
    "    acc_class_global_12 += acc_class_12\n",
    "    \n",
    "    Y_pred_47 = np.where(Y_pred > 4/7, 1, 0)\n",
    "    acc_class_47 = np.sum(Y_pred_47 == np.array(Y), axis=0) / len(Y)\n",
    "    acc_class_global_47 += acc_class_47\n",
    "    i+=1\n",
    "acc_class_global_12 /= i\n",
    "print('1/2')\n",
    "print(acc_class_global_12)\n",
    "print(acc_class_global_12.mean())\n",
    "acc_class_global_47 /= i\n",
    "print('4/7')\n",
    "print(acc_class_global_47)\n",
    "print(acc_class_global_47.mean())"
   ]
  },
  {
   "cell_type": "code",
   "execution_count": 14,
   "metadata": {},
   "outputs": [
    {
     "name": "stderr",
     "output_type": "stream",
     "text": [
      "100%|██████████| 1/1 [00:01<00:00,  1.12s/it]"
     ]
    },
    {
     "name": "stdout",
     "output_type": "stream",
     "text": [
      "[0.  0.5 0.5 0.5 0.5]\n",
      "0.4\n"
     ]
    },
    {
     "name": "stderr",
     "output_type": "stream",
     "text": [
      "\n"
     ]
    }
   ],
   "source": [
    "for batch in dm.val_dataloader():\n",
    "    X, Y = batch['normalized'], batch['label']\n",
    "#     normalize = transforms.Normalize((X.mean()), (X.std()))\n",
    "#     X = normalize(X)\n",
    "    Y_pred = cnn4(X)\n",
    "    # Y_pred = np.where(Y_pred > limit, 1, 0)\n",
    "    print(Y_pred[0:5])\n",
    "    Y_pred = np.where(Y_pred > 1/2, 1, 0)\n",
    "    print(Y_pred[0:5])\n",
    "    print(Y[0:5])\n",
    "    break"
   ]
  }
 ],
 "metadata": {
  "interpreter": {
   "hash": "17c86be10898ce801771adcf76c16a8364cc4401ea312904bbbb2c75f131c156"
  },
  "kernelspec": {
   "display_name": "py39",
   "language": "python",
   "name": "python3"
  },
  "language_info": {
   "codemirror_mode": {
    "name": "ipython",
    "version": 3
   },
   "file_extension": ".py",
   "mimetype": "text/x-python",
   "name": "python",
   "nbconvert_exporter": "python",
   "pygments_lexer": "ipython3",
   "version": "3.8.5"
  }
 },
 "nbformat": 4,
 "nbformat_minor": 2
}
