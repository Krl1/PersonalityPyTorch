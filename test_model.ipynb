{
 "cells": [
  {
   "cell_type": "code",
   "execution_count": 33,
   "metadata": {},
   "outputs": [],
   "source": [
    "import torch\n",
    "from pathlib import Path\n",
    "import numpy as np\n",
    "from tqdm import tqdm\n",
    "import cv2\n",
    "from cnn4 import CNN4\n",
    "from datamodule import Datamodule\n",
    "from params import LocationConfig, TrainingConfig\n",
    "from torch.nn import functional as F"
   ]
  },
  {
   "cell_type": "code",
   "execution_count": 2,
   "metadata": {},
   "outputs": [],
   "source": [
    "cnn4 = CNN4(lr=TrainingConfig.lr)\n",
    "state_dict = torch.load(LocationConfig.best_model)\n",
    "cnn4.load_state_dict(state_dict)\n",
    "cnn4.eval();"
   ]
  },
  {
   "cell_type": "code",
   "execution_count": 3,
   "metadata": {},
   "outputs": [
    {
     "name": "stdout",
     "output_type": "stream",
     "text": [
      "file: data/test/test_clselfie_v7.pickle\n",
      "file: data/test/test_clselfie_v7.pickle\n"
     ]
    }
   ],
   "source": [
    "train_data_path = Path('data/test')\n",
    "test_data_path = Path('data/test')\n",
    "dm = Datamodule(\n",
    "        batch_size=TrainingConfig.batch_size,\n",
    "        train_dir=train_data_path,\n",
    "        val_dir=test_data_path,\n",
    "        )\n",
    "# dm.setup(val_only=True)\n",
    "dm.setup()"
   ]
  },
  {
   "cell_type": "code",
   "execution_count": 4,
   "metadata": {},
   "outputs": [
    {
     "name": "stdout",
     "output_type": "stream",
     "text": [
      "torch.Size([16, 208, 208, 1])\n"
     ]
    }
   ],
   "source": [
    "for batch in dm.val_dataloader():\n",
    "    X, Y = batch['normalized'], batch['label']\n",
    "    print(X.shape)\n",
    "    break"
   ]
  },
  {
   "cell_type": "code",
   "execution_count": 5,
   "metadata": {},
   "outputs": [],
   "source": [
    "checkpoints_dir = Path(LocationConfig.checkpoints_dir)\n",
    "list_of_checkpoints = list(checkpoints_dir.glob(\"*.ckpt\"))\n",
    "latest_checkpoint_path = max(list_of_checkpoints, key=lambda p: p.stat().st_ctime)\n",
    "\n",
    "lightning_model = CNN4(lr=TrainingConfig.lr)\n",
    "lightning_model.load_from_checkpoint(latest_checkpoint_path)\n",
    "lightning_model.eval();"
   ]
  },
  {
   "cell_type": "code",
   "execution_count": 6,
   "metadata": {},
   "outputs": [
    {
     "data": {
      "text/plain": [
       "tensor([[[-0.1684, -0.1059, -0.1206],\n",
       "         [ 0.3270, -0.1235, -0.2387],\n",
       "         [ 0.1386, -0.0193,  0.2552]]])"
      ]
     },
     "execution_count": 6,
     "metadata": {},
     "output_type": "execute_result"
    }
   ],
   "source": [
    "cnn4.state_dict()['conv.conv_0.weight'][0]"
   ]
  },
  {
   "cell_type": "code",
   "execution_count": 7,
   "metadata": {},
   "outputs": [
    {
     "data": {
      "text/plain": [
       "tensor([[[ 0.0479,  0.0679, -0.0222],\n",
       "         [ 0.1913, -0.1300, -0.0273],\n",
       "         [-0.3121,  0.2863,  0.2144]]])"
      ]
     },
     "execution_count": 7,
     "metadata": {},
     "output_type": "execute_result"
    }
   ],
   "source": [
    "lightning_model.state_dict()['conv.conv_0.weight'][0]"
   ]
  },
  {
   "cell_type": "code",
   "execution_count": 49,
   "metadata": {},
   "outputs": [
    {
     "name": "stderr",
     "output_type": "stream",
     "text": [
      "  0%|          | 0/38 [00:00<?, ?it/s]/home/karol/miniconda3/envs/ur/lib/python3.8/site-packages/torch/nn/functional.py:780: UserWarning: Note that order of the arguments: ceil_mode and return_indices will changeto match the args list in nn.MaxPool2d in a future release.\n",
      "  warnings.warn(\"Note that order of the arguments: ceil_mode and return_indices will change\"\n",
      "100%|██████████| 38/38 [00:17<00:00,  2.16it/s]"
     ]
    },
    {
     "name": "stdout",
     "output_type": "stream",
     "text": [
      "[0.48684211 0.57565789 0.69078947 0.5625     0.61184211]\n",
      "0.5855263157894737\n"
     ]
    },
    {
     "name": "stderr",
     "output_type": "stream",
     "text": [
      "\n"
     ]
    }
   ],
   "source": [
    "acc_class_global = np.zeros(5)\n",
    "i=0\n",
    "for batch in tqdm(dm.val_dataloader()):\n",
    "    limit = 4/7\n",
    "    X, Y = batch['normalized'], batch['label']\n",
    "    Y_pred = cnn4.predict_step(X, None)\n",
    "    Y_pred = np.where(Y_pred > limit, 1, 0)\n",
    "    acc_class = np.sum(Y_pred == np.array(Y), axis=0) / len(Y)\n",
    "    acc_class_global += acc_class\n",
    "    i+=1\n",
    "acc_class_global /= i\n",
    "print(acc_class_global)\n",
    "print(acc_class_global.mean())"
   ]
  },
  {
   "cell_type": "code",
   "execution_count": 50,
   "metadata": {},
   "outputs": [
    {
     "name": "stderr",
     "output_type": "stream",
     "text": [
      "100%|██████████| 38/38 [00:21<00:00,  1.78it/s]"
     ]
    },
    {
     "name": "stdout",
     "output_type": "stream",
     "text": [
      "[0.48684211 0.57565789 0.69078947 0.5625     0.61184211]\n",
      "0.5855263157894737\n"
     ]
    },
    {
     "name": "stderr",
     "output_type": "stream",
     "text": [
      "\n"
     ]
    }
   ],
   "source": [
    "acc_class_global = np.zeros(5)\n",
    "i=0\n",
    "for batch in tqdm(dm.val_dataloader()):\n",
    "    limit = 4/7\n",
    "    X, Y = batch['normalized'], batch['label']\n",
    "    Y_pred = lightning_model.predict_step(X, None)\n",
    "    Y_pred = np.where(Y_pred > limit, 1, 0)\n",
    "    acc_class = np.sum(Y_pred == np.array(Y), axis=0) / len(Y)\n",
    "    acc_class_global += acc_class\n",
    "    i+=1\n",
    "acc_class_global /= i\n",
    "print(acc_class_global)\n",
    "print(acc_class_global.mean())"
   ]
  },
  {
   "cell_type": "code",
   "execution_count": 8,
   "metadata": {},
   "outputs": [
    {
     "data": {
      "text/plain": [
       "PosixPath('model/checkpoints/epoch=199-step=17399.ckpt')"
      ]
     },
     "execution_count": 8,
     "metadata": {},
     "output_type": "execute_result"
    }
   ],
   "source": [
    "latest_checkpoint_path"
   ]
  },
  {
   "cell_type": "code",
   "execution_count": 9,
   "metadata": {},
   "outputs": [
    {
     "name": "stderr",
     "output_type": "stream",
     "text": [
      "/home/karol/miniconda3/envs/ur/lib/python3.8/site-packages/torch/nn/functional.py:780: UserWarning: Note that order of the arguments: ceil_mode and return_indices will changeto match the args list in nn.MaxPool2d in a future release.\n",
      "  warnings.warn(\"Note that order of the arguments: ceil_mode and return_indices will change\"\n"
     ]
    },
    {
     "name": "stdout",
     "output_type": "stream",
     "text": [
      "tensor([[ 0.1523,  0.1269, -0.0723,  0.0593, -0.0937],\n",
      "        [ 0.1523,  0.1269, -0.0723,  0.0593, -0.0937],\n",
      "        [ 0.1523,  0.1269, -0.0723,  0.0593, -0.0937]],\n",
      "       grad_fn=<SliceBackward0>)\n",
      "tensor([[0, 0, 0, 0, 0],\n",
      "        [0, 0, 0, 0, 0],\n",
      "        [0, 1, 1, 1, 1]])\n"
     ]
    }
   ],
   "source": [
    "for batch in dm.train_dataloader():\n",
    "    X, Y = batch['normalized'], batch['label']\n",
    "    Y_pred = lightning_model(X)\n",
    "    # Y_pred = np.where(Y_pred > limit, 1, 0)\n",
    "    print(Y_pred[0:3])\n",
    "    print(Y[0:3])\n",
    "    break"
   ]
  },
  {
   "cell_type": "code",
   "execution_count": null,
   "metadata": {},
   "outputs": [],
   "source": []
  },
  {
   "cell_type": "code",
   "execution_count": 34,
   "metadata": {},
   "outputs": [
    {
     "name": "stderr",
     "output_type": "stream",
     "text": [
      "/home/karol/miniconda3/envs/ur/lib/python3.8/site-packages/torch/nn/functional.py:780: UserWarning: Note that order of the arguments: ceil_mode and return_indices will changeto match the args list in nn.MaxPool2d in a future release.\n",
      "  warnings.warn(\"Note that order of the arguments: ceil_mode and return_indices will change\"\n"
     ]
    },
    {
     "name": "stdout",
     "output_type": "stream",
     "text": [
      "tensor(0.3849, grad_fn=<MseLossBackward0>)\n"
     ]
    }
   ],
   "source": [
    "for batch in dm.train_dataloader():\n",
    "    X, Y = batch['normalized'], batch['label']\n",
    "    Y_pred = cnn4(X)\n",
    "    loss = F.mse_loss(Y_pred, Y)\n",
    "    # Y_pred = np.where(Y_pred > limit, 1, 0)\n",
    "    # print(Y_pred[0:3])\n",
    "    # print(Y[0:3])\n",
    "    print(loss)\n",
    "    break"
   ]
  },
  {
   "cell_type": "code",
   "execution_count": 40,
   "metadata": {},
   "outputs": [
    {
     "data": {
      "text/plain": [
       "tensor(0.3687, grad_fn=<MseLossBackward0>)"
      ]
     },
     "execution_count": 40,
     "metadata": {},
     "output_type": "execute_result"
    }
   ],
   "source": [
    "F.mse_loss(Y_pred[0:2], Y[0:2])"
   ]
  },
  {
   "cell_type": "code",
   "execution_count": 65,
   "metadata": {},
   "outputs": [
    {
     "data": {
      "text/plain": [
       "tensor([[0.4582, 0.4582, 0.4622, 0.4622, 0.4622, 0.4661, 0.4622, 0.4622],\n",
       "        [0.0627, 0.0627, 0.0627, 0.0627, 0.0627, 0.0627, 0.0627, 0.0627],\n",
       "        [0.3294, 0.3216, 0.3216, 0.3255, 0.3294, 0.3294, 0.3255, 0.3294]])"
      ]
     },
     "execution_count": 65,
     "metadata": {},
     "output_type": "execute_result"
    }
   ],
   "source": [
    "X[:3,:8,0,0]"
   ]
  },
  {
   "cell_type": "code",
   "execution_count": 90,
   "metadata": {},
   "outputs": [
    {
     "data": {
      "text/plain": [
       "tensor([[0.0183, 0.0000, 0.0053, 0.0000, 0.0132, 0.0000, 0.0000, 0.0105],\n",
       "        [0.0175, 0.0000, 0.0054, 0.0000, 0.0152, 0.0000, 0.0000, 0.0108],\n",
       "        [0.0173, 0.0000, 0.0054, 0.0000, 0.0150, 0.0000, 0.0000, 0.0105]],\n",
       "       grad_fn=<SelectBackward0>)"
      ]
     },
     "execution_count": 90,
     "metadata": {},
     "output_type": "execute_result"
    }
   ],
   "source": [
    "a=21\n",
    "cnn4.conv[:a](X.permute(0, 3, 1, 2))[:3,:8,0,0]"
   ]
  },
  {
   "cell_type": "code",
   "execution_count": 91,
   "metadata": {},
   "outputs": [],
   "source": [
    "import torchvision.transforms as transforms"
   ]
  },
  {
   "cell_type": "code",
   "execution_count": 97,
   "metadata": {},
   "outputs": [],
   "source": [
    "normalize = transforms.Normalize((X.mean()), (X.std()))"
   ]
  },
  {
   "cell_type": "code",
   "execution_count": 99,
   "metadata": {},
   "outputs": [
    {
     "data": {
      "text/plain": [
       "torch.Size([16, 208, 208, 1])"
      ]
     },
     "execution_count": 99,
     "metadata": {},
     "output_type": "execute_result"
    }
   ],
   "source": [
    "normalize(X).shape"
   ]
  }
 ],
 "metadata": {
  "interpreter": {
   "hash": "17c86be10898ce801771adcf76c16a8364cc4401ea312904bbbb2c75f131c156"
  },
  "kernelspec": {
   "display_name": "py39",
   "language": "python",
   "name": "python3"
  },
  "language_info": {
   "codemirror_mode": {
    "name": "ipython",
    "version": 3
   },
   "file_extension": ".py",
   "mimetype": "text/x-python",
   "name": "python",
   "nbconvert_exporter": "python",
   "pygments_lexer": "ipython3",
   "version": "3.8.5"
  }
 },
 "nbformat": 4,
 "nbformat_minor": 2
}
