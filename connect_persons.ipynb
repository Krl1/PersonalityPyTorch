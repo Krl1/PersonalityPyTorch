{
 "cells": [
  {
   "cell_type": "code",
   "execution_count": 1,
   "metadata": {},
   "outputs": [],
   "source": [
    "import pickle\n",
    "from pathlib import Path\n",
    "from tqdm import tqdm\n",
    "import pandas as pd\n",
    "import numpy as np\n",
    "import pytorch_lightning as pl\n",
    "import torch\n",
    "from torch.utils.data import DataLoader\n",
    "\n",
    "from dataset import PersonalityDataset\n",
    "from params import LocationConfig\n",
    "\n",
    "from PIL import Image\n",
    "from glob import glob"
   ]
  },
  {
   "cell_type": "code",
   "execution_count": 2,
   "metadata": {},
   "outputs": [],
   "source": [
    "images_dir = Path('dataset')"
   ]
  },
  {
   "cell_type": "code",
   "execution_count": 5,
   "metadata": {},
   "outputs": [
    {
     "data": {
      "text/html": [
       "<div>\n",
       "<style scoped>\n",
       "    .dataframe tbody tr th:only-of-type {\n",
       "        vertical-align: middle;\n",
       "    }\n",
       "\n",
       "    .dataframe tbody tr th {\n",
       "        vertical-align: top;\n",
       "    }\n",
       "\n",
       "    .dataframe thead th {\n",
       "        text-align: right;\n",
       "    }\n",
       "</style>\n",
       "<table border=\"1\" class=\"dataframe\">\n",
       "  <thead>\n",
       "    <tr style=\"text-align: right;\">\n",
       "      <th></th>\n",
       "      <th>VideoName</th>\n",
       "      <th>ValueExtraversion</th>\n",
       "      <th>ValueAgreeableness</th>\n",
       "      <th>ValueConscientiousness</th>\n",
       "      <th>ValueNeurotisicm</th>\n",
       "      <th>ValueOpenness</th>\n",
       "    </tr>\n",
       "  </thead>\n",
       "  <tbody>\n",
       "    <tr>\n",
       "      <th>0</th>\n",
       "      <td>GQczMGrVgbc.001.mp4</td>\n",
       "      <td>0.570093</td>\n",
       "      <td>0.703297</td>\n",
       "      <td>0.640777</td>\n",
       "      <td>0.666667</td>\n",
       "      <td>0.544444</td>\n",
       "    </tr>\n",
       "    <tr>\n",
       "      <th>1</th>\n",
       "      <td>-utrsarZeIY.004.mp4</td>\n",
       "      <td>0.523364</td>\n",
       "      <td>0.516484</td>\n",
       "      <td>0.436893</td>\n",
       "      <td>0.333333</td>\n",
       "      <td>0.411111</td>\n",
       "    </tr>\n",
       "    <tr>\n",
       "      <th>2</th>\n",
       "      <td>3HA2W1s4oP8.001.mp4</td>\n",
       "      <td>0.401869</td>\n",
       "      <td>0.538462</td>\n",
       "      <td>0.427184</td>\n",
       "      <td>0.510417</td>\n",
       "      <td>0.388889</td>\n",
       "    </tr>\n",
       "  </tbody>\n",
       "</table>\n",
       "</div>"
      ],
      "text/plain": [
       "             VideoName  ValueExtraversion  ValueAgreeableness  \\\n",
       "0  GQczMGrVgbc.001.mp4           0.570093            0.703297   \n",
       "1  -utrsarZeIY.004.mp4           0.523364            0.516484   \n",
       "2  3HA2W1s4oP8.001.mp4           0.401869            0.538462   \n",
       "\n",
       "   ValueConscientiousness  ValueNeurotisicm  ValueOpenness  \n",
       "0                0.640777          0.666667       0.544444  \n",
       "1                0.436893          0.333333       0.411111  \n",
       "2                0.427184          0.510417       0.388889  "
      ]
     },
     "execution_count": 5,
     "metadata": {},
     "output_type": "execute_result"
    }
   ],
   "source": [
    "df = pd.read_csv(images_dir.joinpath('bigfive_labels.csv'))\n",
    "df.head(3)"
   ]
  },
  {
   "cell_type": "code",
   "execution_count": 21,
   "metadata": {},
   "outputs": [
    {
     "data": {
      "text/html": [
       "<div>\n",
       "<style scoped>\n",
       "    .dataframe tbody tr th:only-of-type {\n",
       "        vertical-align: middle;\n",
       "    }\n",
       "\n",
       "    .dataframe tbody tr th {\n",
       "        vertical-align: top;\n",
       "    }\n",
       "\n",
       "    .dataframe thead th {\n",
       "        text-align: right;\n",
       "    }\n",
       "</style>\n",
       "<table border=\"1\" class=\"dataframe\">\n",
       "  <thead>\n",
       "    <tr style=\"text-align: right;\">\n",
       "      <th></th>\n",
       "      <th>ValueExtraversion</th>\n",
       "      <th>ValueAgreeableness</th>\n",
       "      <th>ValueConscientiousness</th>\n",
       "      <th>ValueNeurotisicm</th>\n",
       "      <th>ValueOpenness</th>\n",
       "    </tr>\n",
       "  </thead>\n",
       "  <tbody>\n",
       "    <tr>\n",
       "      <th>count</th>\n",
       "      <td>8000.000000</td>\n",
       "      <td>8000.000000</td>\n",
       "      <td>8000.000000</td>\n",
       "      <td>8000.000000</td>\n",
       "      <td>8000.000000</td>\n",
       "    </tr>\n",
       "    <tr>\n",
       "      <th>mean</th>\n",
       "      <td>0.476313</td>\n",
       "      <td>0.548898</td>\n",
       "      <td>0.524053</td>\n",
       "      <td>0.520605</td>\n",
       "      <td>0.566290</td>\n",
       "    </tr>\n",
       "    <tr>\n",
       "      <th>std</th>\n",
       "      <td>0.151226</td>\n",
       "      <td>0.134234</td>\n",
       "      <td>0.155351</td>\n",
       "      <td>0.152635</td>\n",
       "      <td>0.146100</td>\n",
       "    </tr>\n",
       "    <tr>\n",
       "      <th>min</th>\n",
       "      <td>0.000000</td>\n",
       "      <td>0.000000</td>\n",
       "      <td>0.000000</td>\n",
       "      <td>0.000000</td>\n",
       "      <td>0.000000</td>\n",
       "    </tr>\n",
       "    <tr>\n",
       "      <th>25%</th>\n",
       "      <td>0.373832</td>\n",
       "      <td>0.461538</td>\n",
       "      <td>0.417476</td>\n",
       "      <td>0.416667</td>\n",
       "      <td>0.466667</td>\n",
       "    </tr>\n",
       "    <tr>\n",
       "      <th>50%</th>\n",
       "      <td>0.476636</td>\n",
       "      <td>0.560440</td>\n",
       "      <td>0.524272</td>\n",
       "      <td>0.531250</td>\n",
       "      <td>0.566667</td>\n",
       "    </tr>\n",
       "    <tr>\n",
       "      <th>75%</th>\n",
       "      <td>0.579439</td>\n",
       "      <td>0.637363</td>\n",
       "      <td>0.640777</td>\n",
       "      <td>0.625000</td>\n",
       "      <td>0.666667</td>\n",
       "    </tr>\n",
       "    <tr>\n",
       "      <th>max</th>\n",
       "      <td>1.000000</td>\n",
       "      <td>1.000000</td>\n",
       "      <td>1.000000</td>\n",
       "      <td>0.979167</td>\n",
       "      <td>1.000000</td>\n",
       "    </tr>\n",
       "  </tbody>\n",
       "</table>\n",
       "</div>"
      ],
      "text/plain": [
       "       ValueExtraversion  ValueAgreeableness  ValueConscientiousness  \\\n",
       "count        8000.000000         8000.000000             8000.000000   \n",
       "mean            0.476313            0.548898                0.524053   \n",
       "std             0.151226            0.134234                0.155351   \n",
       "min             0.000000            0.000000                0.000000   \n",
       "25%             0.373832            0.461538                0.417476   \n",
       "50%             0.476636            0.560440                0.524272   \n",
       "75%             0.579439            0.637363                0.640777   \n",
       "max             1.000000            1.000000                1.000000   \n",
       "\n",
       "       ValueNeurotisicm  ValueOpenness  \n",
       "count       8000.000000    8000.000000  \n",
       "mean           0.520605       0.566290  \n",
       "std            0.152635       0.146100  \n",
       "min            0.000000       0.000000  \n",
       "25%            0.416667       0.466667  \n",
       "50%            0.531250       0.566667  \n",
       "75%            0.625000       0.666667  \n",
       "max            0.979167       1.000000  "
      ]
     },
     "execution_count": 21,
     "metadata": {},
     "output_type": "execute_result"
    }
   ],
   "source": [
    "df.describe()"
   ]
  },
  {
   "cell_type": "code",
   "execution_count": 6,
   "metadata": {},
   "outputs": [],
   "source": [
    "ShortVideoName = []\n",
    "for videoName in df.VideoName.values:\n",
    "    ShortVideoName.append(videoName.split('.')[0])\n",
    "df['ShortVideoName'] = ShortVideoName"
   ]
  },
  {
   "cell_type": "code",
   "execution_count": 10,
   "metadata": {},
   "outputs": [
    {
     "data": {
      "text/html": [
       "<div>\n",
       "<style scoped>\n",
       "    .dataframe tbody tr th:only-of-type {\n",
       "        vertical-align: middle;\n",
       "    }\n",
       "\n",
       "    .dataframe tbody tr th {\n",
       "        vertical-align: top;\n",
       "    }\n",
       "\n",
       "    .dataframe thead th {\n",
       "        text-align: right;\n",
       "    }\n",
       "</style>\n",
       "<table border=\"1\" class=\"dataframe\">\n",
       "  <thead>\n",
       "    <tr style=\"text-align: right;\">\n",
       "      <th></th>\n",
       "      <th>ShortVideoName</th>\n",
       "      <th>ValueExtraversion</th>\n",
       "      <th>ValueAgreeableness</th>\n",
       "      <th>ValueConscientiousness</th>\n",
       "      <th>ValueNeurotisicm</th>\n",
       "      <th>ValueOpenness</th>\n",
       "    </tr>\n",
       "  </thead>\n",
       "  <tbody>\n",
       "    <tr>\n",
       "      <th>0</th>\n",
       "      <td>--Ymqszjv54</td>\n",
       "      <td>0.390187</td>\n",
       "      <td>0.491758</td>\n",
       "      <td>0.453883</td>\n",
       "      <td>0.385417</td>\n",
       "      <td>0.525000</td>\n",
       "    </tr>\n",
       "    <tr>\n",
       "      <th>1</th>\n",
       "      <td>-2qsCrkXdWs</td>\n",
       "      <td>0.476636</td>\n",
       "      <td>0.593407</td>\n",
       "      <td>0.572816</td>\n",
       "      <td>0.604167</td>\n",
       "      <td>0.611111</td>\n",
       "    </tr>\n",
       "    <tr>\n",
       "      <th>2</th>\n",
       "      <td>-55DRRMTppE</td>\n",
       "      <td>0.658879</td>\n",
       "      <td>0.708791</td>\n",
       "      <td>0.728155</td>\n",
       "      <td>0.671875</td>\n",
       "      <td>0.666667</td>\n",
       "    </tr>\n",
       "  </tbody>\n",
       "</table>\n",
       "</div>"
      ],
      "text/plain": [
       "  ShortVideoName  ValueExtraversion  ValueAgreeableness  \\\n",
       "0    --Ymqszjv54           0.390187            0.491758   \n",
       "1    -2qsCrkXdWs           0.476636            0.593407   \n",
       "2    -55DRRMTppE           0.658879            0.708791   \n",
       "\n",
       "   ValueConscientiousness  ValueNeurotisicm  ValueOpenness  \n",
       "0                0.453883          0.385417       0.525000  \n",
       "1                0.572816          0.604167       0.611111  \n",
       "2                0.728155          0.671875       0.666667  "
      ]
     },
     "execution_count": 10,
     "metadata": {},
     "output_type": "execute_result"
    }
   ],
   "source": [
    "cols = ['ValueExtraversion','ValueAgreeableness','ValueConscientiousness','ValueNeurotisicm','ValueOpenness','ShortVideoName']\n",
    "grouped_df = df[cols].groupby('ShortVideoName')\n",
    "mean_df = grouped_df.mean()\n",
    "mean_df = mean_df.reset_index()\n",
    "# mean_df.to_csv(images_dir.joinpath('bigfive_labels_mean.csv'))\n",
    "mean_df.head(3)"
   ]
  },
  {
   "cell_type": "code",
   "execution_count": 20,
   "metadata": {},
   "outputs": [
    {
     "data": {
      "text/html": [
       "<div>\n",
       "<style scoped>\n",
       "    .dataframe tbody tr th:only-of-type {\n",
       "        vertical-align: middle;\n",
       "    }\n",
       "\n",
       "    .dataframe tbody tr th {\n",
       "        vertical-align: top;\n",
       "    }\n",
       "\n",
       "    .dataframe thead th {\n",
       "        text-align: right;\n",
       "    }\n",
       "</style>\n",
       "<table border=\"1\" class=\"dataframe\">\n",
       "  <thead>\n",
       "    <tr style=\"text-align: right;\">\n",
       "      <th></th>\n",
       "      <th>ValueExtraversion</th>\n",
       "      <th>ValueAgreeableness</th>\n",
       "      <th>ValueConscientiousness</th>\n",
       "      <th>ValueNeurotisicm</th>\n",
       "      <th>ValueOpenness</th>\n",
       "    </tr>\n",
       "    <tr>\n",
       "      <th>ShortVideoName</th>\n",
       "      <th></th>\n",
       "      <th></th>\n",
       "      <th></th>\n",
       "      <th></th>\n",
       "      <th></th>\n",
       "    </tr>\n",
       "  </thead>\n",
       "  <tbody>\n",
       "    <tr>\n",
       "      <th>--Ymqszjv54</th>\n",
       "      <td>0.390187</td>\n",
       "      <td>0.491758</td>\n",
       "      <td>0.453883</td>\n",
       "      <td>0.385417</td>\n",
       "      <td>0.525000</td>\n",
       "    </tr>\n",
       "    <tr>\n",
       "      <th>-2qsCrkXdWs</th>\n",
       "      <td>0.476636</td>\n",
       "      <td>0.593407</td>\n",
       "      <td>0.572816</td>\n",
       "      <td>0.604167</td>\n",
       "      <td>0.611111</td>\n",
       "    </tr>\n",
       "    <tr>\n",
       "      <th>-55DRRMTppE</th>\n",
       "      <td>0.658879</td>\n",
       "      <td>0.708791</td>\n",
       "      <td>0.728155</td>\n",
       "      <td>0.671875</td>\n",
       "      <td>0.666667</td>\n",
       "    </tr>\n",
       "  </tbody>\n",
       "</table>\n",
       "</div>"
      ],
      "text/plain": [
       "                ValueExtraversion  ValueAgreeableness  ValueConscientiousness  \\\n",
       "ShortVideoName                                                                  \n",
       "--Ymqszjv54              0.390187            0.491758                0.453883   \n",
       "-2qsCrkXdWs              0.476636            0.593407                0.572816   \n",
       "-55DRRMTppE              0.658879            0.708791                0.728155   \n",
       "\n",
       "                ValueNeurotisicm  ValueOpenness  \n",
       "ShortVideoName                                   \n",
       "--Ymqszjv54             0.385417       0.525000  \n",
       "-2qsCrkXdWs             0.604167       0.611111  \n",
       "-55DRRMTppE             0.671875       0.666667  "
      ]
     },
     "execution_count": 20,
     "metadata": {},
     "output_type": "execute_result"
    }
   ],
   "source": [
    "mean_df = mean_df.set_index('ShortVideoName')\n",
    "mean_df.head(3)"
   ]
  },
  {
   "cell_type": "markdown",
   "metadata": {},
   "source": [
    "### Create new dataset"
   ]
  },
  {
   "cell_type": "code",
   "execution_count": 8,
   "metadata": {},
   "outputs": [
    {
     "data": {
      "text/plain": [
       "((2626,), (260,))"
      ]
     },
     "execution_count": 8,
     "metadata": {},
     "output_type": "execute_result"
    }
   ],
   "source": [
    "from sklearn.model_selection import train_test_split\n",
    "X_train, X_test = train_test_split(np.array(mean_df.index), test_size=0.09, random_state=42)\n",
    "X_train.shape, X_test.shape"
   ]
  },
  {
   "cell_type": "code",
   "execution_count": 19,
   "metadata": {},
   "outputs": [],
   "source": [
    "import cv2"
   ]
  },
  {
   "cell_type": "code",
   "execution_count": 21,
   "metadata": {},
   "outputs": [
    {
     "name": "stderr",
     "output_type": "stream",
     "text": [
      "100%|██████████| 30935/30935 [00:13<00:00, 2282.27it/s]\n"
     ]
    },
    {
     "data": {
      "text/plain": [
       "(28136, 2799)"
      ]
     },
     "execution_count": 21,
     "metadata": {},
     "output_type": "execute_result"
    }
   ],
   "source": [
    "images_dict_train = {'X':[], 'Y':[]}\n",
    "images_dict_test = {'X':[], 'Y':[]}\n",
    "Y_threshold = 0.5\n",
    "for image_path in tqdm(images_dir.glob('*/*.jpg'), total=30935):\n",
    "    X = cv2.imread(str(image_path))    \n",
    "    image_group = image_path.name.split('.')[0]\n",
    "    image_no = image_path.name.split('.')[2][-5:]\n",
    "    Y = mean_df.loc[image_group].values\n",
    "    Y = list(np.where(Y>Y_threshold, 1, 0))\n",
    "    if image_group in X_test:\n",
    "        images_dict_test['X'].append(X)\n",
    "        images_dict_test['Y'].append(Y)\n",
    "    else:\n",
    "        images_dict_train['X'].append(X)\n",
    "        images_dict_train['Y'].append(Y)\n",
    "\n",
    "len(images_dict_train['Y']), len(images_dict_test['Y'])"
   ]
  },
  {
   "cell_type": "code",
   "execution_count": 22,
   "metadata": {},
   "outputs": [],
   "source": [
    "with open('data_connected/train/train.pickle', 'wb') as handle:\n",
    "    pickle.dump(images_dict_train, handle, protocol=pickle.HIGHEST_PROTOCOL)\n",
    "with open('data_connected/test/test.pickle', 'wb') as handle:\n",
    "    pickle.dump(images_dict_test, handle, protocol=pickle.HIGHEST_PROTOCOL)"
   ]
  },
  {
   "cell_type": "code",
   "execution_count": 12,
   "metadata": {},
   "outputs": [],
   "source": [
    "with open('data/test/test_clselfie_v7.pickle', 'rb') as handle:\n",
    "    df = pickle.load(handle)"
   ]
  },
  {
   "cell_type": "code",
   "execution_count": 17,
   "metadata": {},
   "outputs": [],
   "source": [
    "new_data = {\n",
    "    'X': df['X'][:2],\n",
    "    'Y': df['Y'][:2],\n",
    "}"
   ]
  },
  {
   "cell_type": "code",
   "execution_count": 18,
   "metadata": {},
   "outputs": [],
   "source": [
    "with open('small_data/small.pickle', 'wb') as handle:\n",
    "    pickle.dump(new_data, handle, protocol=pickle.HIGHEST_PROTOCOL)"
   ]
  },
  {
   "cell_type": "code",
   "execution_count": null,
   "metadata": {},
   "outputs": [],
   "source": []
  }
 ],
 "metadata": {
  "interpreter": {
   "hash": "17c86be10898ce801771adcf76c16a8364cc4401ea312904bbbb2c75f131c156"
  },
  "kernelspec": {
   "display_name": "py39",
   "language": "python",
   "name": "py39"
  },
  "language_info": {
   "codemirror_mode": {
    "name": "ipython",
    "version": 3
   },
   "file_extension": ".py",
   "mimetype": "text/x-python",
   "name": "python",
   "nbconvert_exporter": "python",
   "pygments_lexer": "ipython3",
   "version": "3.9.7"
  }
 },
 "nbformat": 4,
 "nbformat_minor": 2
}
