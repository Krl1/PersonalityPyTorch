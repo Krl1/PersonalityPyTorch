{
 "cells": [
  {
   "cell_type": "code",
   "execution_count": 1,
   "metadata": {},
   "outputs": [],
   "source": [
    "import pickle\n",
    "from pathlib import Path\n",
    "from tqdm import tqdm\n",
    "import pandas as pd\n",
    "import numpy as np\n",
    "import pytorch_lightning as pl\n",
    "import torch\n",
    "from torch.utils.data import DataLoader\n",
    "\n",
    "from dataset import PersonalityDataset\n",
    "from params import LocationConfig\n",
    "\n",
    "from PIL import Image\n",
    "from glob import glob"
   ]
  },
  {
   "cell_type": "code",
   "execution_count": 2,
   "metadata": {},
   "outputs": [],
   "source": [
    "images_dir = Path('/media/karol/HDD2/uczelnia_dane/magisterka/personality/dataset')"
   ]
  },
  {
   "cell_type": "code",
   "execution_count": 3,
   "metadata": {},
   "outputs": [
    {
     "data": {
      "text/html": [
       "<div>\n",
       "<style scoped>\n",
       "    .dataframe tbody tr th:only-of-type {\n",
       "        vertical-align: middle;\n",
       "    }\n",
       "\n",
       "    .dataframe tbody tr th {\n",
       "        vertical-align: top;\n",
       "    }\n",
       "\n",
       "    .dataframe thead th {\n",
       "        text-align: right;\n",
       "    }\n",
       "</style>\n",
       "<table border=\"1\" class=\"dataframe\">\n",
       "  <thead>\n",
       "    <tr style=\"text-align: right;\">\n",
       "      <th></th>\n",
       "      <th>VideoName</th>\n",
       "      <th>ValueExtraversion</th>\n",
       "      <th>ValueAgreeableness</th>\n",
       "      <th>ValueConscientiousness</th>\n",
       "      <th>ValueNeurotisicm</th>\n",
       "      <th>ValueOpenness</th>\n",
       "    </tr>\n",
       "  </thead>\n",
       "  <tbody>\n",
       "    <tr>\n",
       "      <th>0</th>\n",
       "      <td>GQczMGrVgbc.001.mp4</td>\n",
       "      <td>0.570093</td>\n",
       "      <td>0.703297</td>\n",
       "      <td>0.640777</td>\n",
       "      <td>0.666667</td>\n",
       "      <td>0.544444</td>\n",
       "    </tr>\n",
       "    <tr>\n",
       "      <th>1</th>\n",
       "      <td>-utrsarZeIY.004.mp4</td>\n",
       "      <td>0.523364</td>\n",
       "      <td>0.516484</td>\n",
       "      <td>0.436893</td>\n",
       "      <td>0.333333</td>\n",
       "      <td>0.411111</td>\n",
       "    </tr>\n",
       "    <tr>\n",
       "      <th>2</th>\n",
       "      <td>3HA2W1s4oP8.001.mp4</td>\n",
       "      <td>0.401869</td>\n",
       "      <td>0.538462</td>\n",
       "      <td>0.427184</td>\n",
       "      <td>0.510417</td>\n",
       "      <td>0.388889</td>\n",
       "    </tr>\n",
       "  </tbody>\n",
       "</table>\n",
       "</div>"
      ],
      "text/plain": [
       "             VideoName  ValueExtraversion  ValueAgreeableness  \\\n",
       "0  GQczMGrVgbc.001.mp4           0.570093            0.703297   \n",
       "1  -utrsarZeIY.004.mp4           0.523364            0.516484   \n",
       "2  3HA2W1s4oP8.001.mp4           0.401869            0.538462   \n",
       "\n",
       "   ValueConscientiousness  ValueNeurotisicm  ValueOpenness  \n",
       "0                0.640777          0.666667       0.544444  \n",
       "1                0.436893          0.333333       0.411111  \n",
       "2                0.427184          0.510417       0.388889  "
      ]
     },
     "execution_count": 3,
     "metadata": {},
     "output_type": "execute_result"
    }
   ],
   "source": [
    "df = pd.read_csv(images_dir.joinpath('bigfive_labels.csv'))\n",
    "df.head(3)"
   ]
  },
  {
   "cell_type": "code",
   "execution_count": 4,
   "metadata": {},
   "outputs": [],
   "source": [
    "ShortVideoName = []\n",
    "for videoName in df.VideoName.values:\n",
    "    ShortVideoName.append(videoName.split('.')[0])\n",
    "df['ShortVideoName'] = ShortVideoName"
   ]
  },
  {
   "cell_type": "code",
   "execution_count": 5,
   "metadata": {},
   "outputs": [],
   "source": [
    "cols = ['ValueExtraversion','ValueAgreeableness','ValueConscientiousness','ValueNeurotisicm','ValueOpenness','ShortVideoName']\n",
    "grouped_df = df[cols].groupby('ShortVideoName')\n",
    "mean_df = grouped_df.mean()\n",
    "mean_df = mean_df.reset_index()\n",
    "mean_df.to_csv(images_dir.joinpath('bigfive_labels_mean.csv'))"
   ]
  },
  {
   "cell_type": "code",
   "execution_count": 6,
   "metadata": {},
   "outputs": [
    {
     "data": {
      "text/html": [
       "<div>\n",
       "<style scoped>\n",
       "    .dataframe tbody tr th:only-of-type {\n",
       "        vertical-align: middle;\n",
       "    }\n",
       "\n",
       "    .dataframe tbody tr th {\n",
       "        vertical-align: top;\n",
       "    }\n",
       "\n",
       "    .dataframe thead th {\n",
       "        text-align: right;\n",
       "    }\n",
       "</style>\n",
       "<table border=\"1\" class=\"dataframe\">\n",
       "  <thead>\n",
       "    <tr style=\"text-align: right;\">\n",
       "      <th></th>\n",
       "      <th>ValueExtraversion</th>\n",
       "      <th>ValueAgreeableness</th>\n",
       "      <th>ValueConscientiousness</th>\n",
       "      <th>ValueNeurotisicm</th>\n",
       "      <th>ValueOpenness</th>\n",
       "    </tr>\n",
       "    <tr>\n",
       "      <th>ShortVideoName</th>\n",
       "      <th></th>\n",
       "      <th></th>\n",
       "      <th></th>\n",
       "      <th></th>\n",
       "      <th></th>\n",
       "    </tr>\n",
       "  </thead>\n",
       "  <tbody>\n",
       "    <tr>\n",
       "      <th>--Ymqszjv54</th>\n",
       "      <td>0.390187</td>\n",
       "      <td>0.491758</td>\n",
       "      <td>0.453883</td>\n",
       "      <td>0.385417</td>\n",
       "      <td>0.525000</td>\n",
       "    </tr>\n",
       "    <tr>\n",
       "      <th>-2qsCrkXdWs</th>\n",
       "      <td>0.476636</td>\n",
       "      <td>0.593407</td>\n",
       "      <td>0.572816</td>\n",
       "      <td>0.604167</td>\n",
       "      <td>0.611111</td>\n",
       "    </tr>\n",
       "    <tr>\n",
       "      <th>-55DRRMTppE</th>\n",
       "      <td>0.658879</td>\n",
       "      <td>0.708791</td>\n",
       "      <td>0.728155</td>\n",
       "      <td>0.671875</td>\n",
       "      <td>0.666667</td>\n",
       "    </tr>\n",
       "  </tbody>\n",
       "</table>\n",
       "</div>"
      ],
      "text/plain": [
       "                ValueExtraversion  ValueAgreeableness  ValueConscientiousness  \\\n",
       "ShortVideoName                                                                  \n",
       "--Ymqszjv54              0.390187            0.491758                0.453883   \n",
       "-2qsCrkXdWs              0.476636            0.593407                0.572816   \n",
       "-55DRRMTppE              0.658879            0.708791                0.728155   \n",
       "\n",
       "                ValueNeurotisicm  ValueOpenness  \n",
       "ShortVideoName                                   \n",
       "--Ymqszjv54             0.385417       0.525000  \n",
       "-2qsCrkXdWs             0.604167       0.611111  \n",
       "-55DRRMTppE             0.671875       0.666667  "
      ]
     },
     "execution_count": 6,
     "metadata": {},
     "output_type": "execute_result"
    }
   ],
   "source": [
    "mean_df = mean_df.set_index('ShortVideoName')\n",
    "mean_df.head(3)"
   ]
  },
  {
   "cell_type": "markdown",
   "metadata": {},
   "source": [
    "### Create new dataset"
   ]
  },
  {
   "cell_type": "code",
   "execution_count": 29,
   "metadata": {},
   "outputs": [
    {
     "data": {
      "text/plain": [
       "((2626,), (260,))"
      ]
     },
     "execution_count": 29,
     "metadata": {},
     "output_type": "execute_result"
    }
   ],
   "source": [
    "from sklearn.model_selection import train_test_split\n",
    "X_train, X_test = train_test_split(np.array(mean_df.index), test_size=0.09, random_state=42)\n",
    "X_train.shape, X_test.shape"
   ]
  },
  {
   "cell_type": "code",
   "execution_count": 30,
   "metadata": {},
   "outputs": [],
   "source": [
    "import cv2"
   ]
  },
  {
   "cell_type": "code",
   "execution_count": 68,
   "metadata": {},
   "outputs": [
    {
     "data": {
      "text/plain": [
       "array([0.57009346, 0.65934066, 0.7961165 , 0.57291667, 0.65555556])"
      ]
     },
     "execution_count": 68,
     "metadata": {},
     "output_type": "execute_result"
    }
   ],
   "source": [
    "mean_df.loc[image_group].values"
   ]
  },
  {
   "cell_type": "code",
   "execution_count": 71,
   "metadata": {},
   "outputs": [
    {
     "name": "stderr",
     "output_type": "stream",
     "text": [
      "100%|██████████| 30935/30935 [02:46<00:00, 185.29it/s]\n"
     ]
    },
    {
     "data": {
      "text/plain": [
       "(28136, 2799)"
      ]
     },
     "execution_count": 71,
     "metadata": {},
     "output_type": "execute_result"
    }
   ],
   "source": [
    "images_dict_train = {'X':[], 'Y':[]}\n",
    "images_dict_test = {'X':[], 'Y':[]}\n",
    "Y_threshold = 0.5\n",
    "for image_path in tqdm(images_dir.glob('*/*.jpg'), total=30935):\n",
    "    X = cv2.imread(str(image_path))    \n",
    "    image_group = image_path.name.split('.')[0]\n",
    "    image_no = image_path.name.split('.')[2][-5:]\n",
    "    Y = mean_df.loc[image_group].values\n",
    "    Y = list(np.where(Y>Y_threshold, 1, 0))\n",
    "    if image_group in X_test:\n",
    "        images_dict_test['X'].append(X)\n",
    "        images_dict_test['Y'].append(Y)\n",
    "    else:\n",
    "        images_dict_train['X'].append(X)\n",
    "        images_dict_train['Y'].append(Y)\n",
    "\n",
    "len(images_dict_train['Y']), len(images_dict_test['Y'])"
   ]
  },
  {
   "cell_type": "code",
   "execution_count": 72,
   "metadata": {},
   "outputs": [],
   "source": [
    "with open('data_connected/train/train.pickle', 'wb') as handle:\n",
    "    pickle.dump(images_dict_train, handle, protocol=pickle.HIGHEST_PROTOCOL)\n",
    "with open('data_connected/test/test.pickle', 'wb') as handle:\n",
    "    pickle.dump(images_dict_test, handle, protocol=pickle.HIGHEST_PROTOCOL)"
   ]
  }
 ],
 "metadata": {
  "interpreter": {
   "hash": "17c86be10898ce801771adcf76c16a8364cc4401ea312904bbbb2c75f131c156"
  },
  "kernelspec": {
   "display_name": "Python 3.8.5 ('ur')",
   "language": "python",
   "name": "python3"
  },
  "language_info": {
   "codemirror_mode": {
    "name": "ipython",
    "version": 3
   },
   "file_extension": ".py",
   "mimetype": "text/x-python",
   "name": "python",
   "nbconvert_exporter": "python",
   "pygments_lexer": "ipython3",
   "version": "3.8.5"
  },
  "orig_nbformat": 4
 },
 "nbformat": 4,
 "nbformat_minor": 2
}
