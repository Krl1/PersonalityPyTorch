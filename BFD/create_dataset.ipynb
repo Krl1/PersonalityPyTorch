{
 "cells": [
  {
   "cell_type": "code",
   "execution_count": 100,
   "metadata": {},
   "outputs": [],
   "source": [
    "import pickle\n",
    "import fnmatch\n",
    "import os\n",
    "import torch\n",
    "from sklearn.model_selection import train_test_split\n",
    "from pathlib import Path\n",
    "import cv2\n",
    "from matplotlib import pyplot as plt\n",
    "from tqdm import tqdm\n",
    "import pandas as pd\n",
    "import numpy as np\n",
    "from params import RANDOM_SEED, LocationConfig, CreateDataConfig\n",
    "from PIL import Image\n",
    "import insightface"
   ]
  },
  {
   "cell_type": "code",
   "execution_count": 55,
   "metadata": {},
   "outputs": [
    {
     "name": "stderr",
     "output_type": "stream",
     "text": [
      "440it [00:00, 211324.15it/s]\n"
     ]
    }
   ],
   "source": [
    "total_f=0\n",
    "for image_path in tqdm(Path(LocationConfig.images).glob('*.png')):\n",
    "    total_f += 1"
   ]
  },
  {
   "cell_type": "code",
   "execution_count": 3,
   "metadata": {},
   "outputs": [],
   "source": [
    "class FaceDetection:\n",
    "    def __init__(self, use_gpu=True):\n",
    "        self.use_gpu = use_gpu\n",
    "        self.image_size = 640\n",
    "        self.det_thresh = 0.7\n",
    "        self.detector = self._get_face_detection_model()\n",
    "\n",
    "    def _get_device_used_code(self):\n",
    "        if not self.use_gpu:\n",
    "            return -1\n",
    "        return 1\n",
    "\n",
    "    def _get_face_detection_model(self):\n",
    "        app_kwargs = {'providers': ['CPUExecutionProvider','CUDAExecutionProvider']}\n",
    "        model_detector_path = '../model/det_10g.onnx'\n",
    "        detector = insightface.model_zoo.get_model(model_detector_path, **app_kwargs)\n",
    "        detector.prepare(ctx_id=self._get_device_used_code(), det_thresh=self.det_thresh, input_size=(self.image_size, self.image_size))\n",
    "        return detector\n",
    "\n",
    "    def detect_face(self, img: np.ndarray) -> np.ndarray:\n",
    "        \"\"\"\n",
    "        Detects a face in an image\n",
    "\n",
    "        Parameters\n",
    "        ----------\n",
    "        img\n",
    "            Input image with a face\n",
    "        Returns\n",
    "        -------\n",
    "        Bounding box of the original face\n",
    "        \"\"\"\n",
    "        bboxes, _ = self.detector.detect(img)\n",
    "        return bboxes"
   ]
  },
  {
   "cell_type": "code",
   "execution_count": 4,
   "metadata": {},
   "outputs": [],
   "source": [
    "def create_new_data_directories():\n",
    "    Path(LocationConfig.data).mkdir(exist_ok=True, parents=True)\n",
    "    Path(LocationConfig.data + 'train').mkdir(exist_ok=True, parents=True)\n",
    "    Path(LocationConfig.data + 'test').mkdir(exist_ok=True, parents=True)\n",
    "    Path(LocationConfig.crop_images).mkdir(exist_ok=True, parents=True)\n",
    "    \n",
    "create_new_data_directories()"
   ]
  },
  {
   "cell_type": "code",
   "execution_count": 126,
   "metadata": {},
   "outputs": [],
   "source": [
    "import torchvision.transforms.functional as F\n",
    "from torchvision import transforms, datasets\n",
    "\n",
    "class SquarePad:\n",
    "\tdef __call__(self, image):\n",
    "\t\tw, h = image.size\n",
    "\t\tmax_wh = 311 #np.max([w, h])\n",
    "\t\thp = int((243 - w) / 2)\n",
    "\t\tvp = int((311 - h) / 2)\n",
    "\t\tpadding = (hp, vp, hp, vp)\n",
    "\t\treturn F.pad(image, padding, 0, 'constant')\n",
    "\n",
    "# now use it as the replacement of transforms.Pad class\n",
    "transform=transforms.Compose([\n",
    "    SquarePad(),\n",
    "    transforms.Resize((311, 243)),\n",
    "    transforms.CenterCrop((311, 243)),\n",
    "    transforms.ToTensor(),\n",
    "    transforms.Normalize((0.4786, 0.5226, 0.6365), (0.3238, 0.3334, 0.3707)),\n",
    "])"
   ]
  },
  {
   "cell_type": "code",
   "execution_count": 129,
   "metadata": {},
   "outputs": [],
   "source": [
    "# list_of_face_shapes = [[],[],[]]\n",
    "def detect_and_crop(face_detect_app: FaceDetection, input_path: Path, output_path: str, img_num: int):\n",
    "    img = cv2.imread(str(input_path))\n",
    "    faces = face_detect_app.detect_face(img)\n",
    "    if len(faces) == 0 or len(faces) > 1:\n",
    "        return\n",
    "\n",
    "    face_box = faces[0].astype(np.int32)\n",
    "    width = (face_box[3] - face_box[1]) // 7\n",
    "    height = (face_box[2] - face_box[0]) // 7\n",
    "    try:\n",
    "        new_img = img[max(face_box[1]-width, 0) : min(face_box[3]+width, img.shape[0]-1), max(face_box[0]-height, 0) : min(face_box[2]+height, img.shape[1]-1)]\n",
    "    except IndexError:\n",
    "        print('ROZMIAR NIE DZIALA')\n",
    "        return\n",
    "    if new_img is None:\n",
    "        return\n",
    "    new_img = transform(Image.fromarray(new_img))\n",
    "    new_img = new_img.permute(1, 2, 0)\n",
    "    filename = str(input_path).split('/')[-1]\n",
    "    cv2.imwrite(os.path.join(output_path,filename), np.array(new_img))\n",
    "    return new_img"
   ]
  },
  {
   "cell_type": "code",
   "execution_count": 130,
   "metadata": {},
   "outputs": [
    {
     "name": "stderr",
     "output_type": "stream",
     "text": [
      "/home/karol/miniconda3/envs/ur/lib/python3.8/site-packages/onnxruntime/capi/onnxruntime_inference_collection.py:55: UserWarning: Specified provider 'CUDAExecutionProvider' is not in available provider names.Available providers: 'CPUExecutionProvider'\n",
      "  warnings.warn(\"Specified provider '{}' is not in available provider names.\"\n"
     ]
    },
    {
     "name": "stdout",
     "output_type": "stream",
     "text": [
      "Applied providers: ['CPUExecutionProvider'], with options: {'CPUExecutionProvider': {}}\n"
     ]
    },
    {
     "name": "stderr",
     "output_type": "stream",
     "text": [
      "100%|██████████| 440/440 [05:13<00:00,  1.41it/s]\n"
     ]
    }
   ],
   "source": [
    "face_detector = FaceDetection()\n",
    "i=0\n",
    "images = []\n",
    "for image_path in tqdm(Path(LocationConfig.images).glob('*.png'), total=total_f):\n",
    "    images.append(detect_and_crop(face_detector, image_path, LocationConfig.crop_images, i))\n",
    "    i+=1"
   ]
  },
  {
   "cell_type": "code",
   "execution_count": 132,
   "metadata": {},
   "outputs": [],
   "source": [
    "images_t = torch.stack(images)"
   ]
  },
  {
   "cell_type": "code",
   "execution_count": 125,
   "metadata": {},
   "outputs": [
    {
     "data": {
      "text/plain": [
       "(tensor([0.4786, 0.5226, 0.6365]), tensor([0.3238, 0.3334, 0.3707]))"
      ]
     },
     "execution_count": 125,
     "metadata": {},
     "output_type": "execute_result"
    }
   ],
   "source": [
    "torch.mean(images_t, dim = [0, 1, 2]), torch.std(images_t, dim = [0, 1, 2])"
   ]
  },
  {
   "cell_type": "code",
   "execution_count": 136,
   "metadata": {},
   "outputs": [
    {
     "data": {
      "text/plain": [
       "(tensor([ 1.3533e-04,  8.2278e-05, -9.4415e-05]),\n",
       " tensor([1.0000, 0.9999, 0.9999]))"
      ]
     },
     "execution_count": 136,
     "metadata": {},
     "output_type": "execute_result"
    }
   ],
   "source": [
    "torch.mean(images_t, dim = [0, 1, 2]), torch.std(images_t, dim = [0, 1, 2])"
   ]
  },
  {
   "cell_type": "code",
   "execution_count": 135,
   "metadata": {},
   "outputs": [
    {
     "data": {
      "text/plain": [
       "torch.Size([440, 311, 243, 3])"
      ]
     },
     "execution_count": 135,
     "metadata": {},
     "output_type": "execute_result"
    }
   ],
   "source": [
    "images_t.shape"
   ]
  },
  {
   "cell_type": "code",
   "execution_count": null,
   "metadata": {},
   "outputs": [],
   "source": []
  },
  {
   "cell_type": "code",
   "execution_count": null,
   "metadata": {},
   "outputs": [],
   "source": []
  },
  {
   "cell_type": "code",
   "execution_count": 137,
   "metadata": {},
   "outputs": [
    {
     "name": "stderr",
     "output_type": "stream",
     "text": [
      "100%|██████████| 440/440 [00:00<00:00, 564.34it/s]\n"
     ]
    }
   ],
   "source": [
    "def create_dataset(images_path):\n",
    "    df = pd.read_csv(LocationConfig.labels + 'bigfive_labels.csv', index_col=0)\n",
    "    df\n",
    "    X_train, X_test = train_test_split(\n",
    "        np.array(df.index), \n",
    "        test_size=CreateDataConfig.test_size_ratio,\n",
    "        random_state=0\n",
    "    )\n",
    "\n",
    "    images_dict_train = {'X':[], 'Y':[]}\n",
    "    images_dict_test = {'X':[], 'Y':[]}\n",
    "    total_files = len(fnmatch.filter(os.listdir(images_path), '*.png'))\n",
    "\n",
    "    for image_path in tqdm(Path(images_path).glob('*.png'), total=total_files):\n",
    "        X = cv2.imread(str(image_path)) \n",
    "        Y = df.loc[image_path.name].values\n",
    "        if CreateDataConfig.classification:\n",
    "            Y = list(np.where(Y>CreateDataConfig.Y_threshold, 1, 0))\n",
    "            \n",
    "        if image_path.name in X_test:\n",
    "            images_dict_test['X'].append(X)\n",
    "            images_dict_test['Y'].append(Y)\n",
    "        else:\n",
    "            images_dict_train['X'].append(X)\n",
    "            images_dict_train['Y'].append(Y)\n",
    "            \n",
    "    with open(LocationConfig.data + 'train/train.pickle', 'wb') as handle:\n",
    "        pickle.dump(images_dict_train, handle, protocol=pickle.HIGHEST_PROTOCOL)\n",
    "    with open(LocationConfig.data + 'test/test.pickle', 'wb') as handle:\n",
    "        pickle.dump(images_dict_test, handle, protocol=pickle.HIGHEST_PROTOCOL)\n",
    "        \n",
    "create_dataset(LocationConfig.crop_images)"
   ]
  },
  {
   "cell_type": "code",
   "execution_count": 139,
   "metadata": {},
   "outputs": [
    {
     "data": {
      "image/png": "[encoded data removed]",
      "text/plain": [
       "<Figure size 432x288 with 1 Axes>"
      ]
     },
     "metadata": {
      "needs_background": "light"
     },
     "output_type": "display_data"
    }
   ],
   "source": [
    "%matplotlib inline\n",
    "#The line above is necesary to show Matplotlib's plots inside a Jupyter Notebook\n",
    "\n",
    "\n",
    "img = cv2.imread('../data/BFD/images/27_Conscientiousness_enhanced.png')\n",
    "#Show the image with matplotlib\n",
    "plt.imshow((cv2.cvtColor(img, cv2.COLOR_BGR2RGB)))\n",
    "plt.show()"
   ]
  }
 ],
 "metadata": {
  "interpreter": {
   "hash": "17c86be10898ce801771adcf76c16a8364cc4401ea312904bbbb2c75f131c156"
  },
  "kernelspec": {
   "display_name": "Python 3.8.5 ('ur')",
   "language": "python",
   "name": "python3"
  },
  "language_info": {
   "codemirror_mode": {
    "name": "ipython",
    "version": 3
   },
   "file_extension": ".py",
   "mimetype": "text/x-python",
   "name": "python",
   "nbconvert_exporter": "python",
   "pygments_lexer": "ipython3",
   "version": "3.8.5"
  },
  "orig_nbformat": 4
 },
 "nbformat": 4,
 "nbformat_minor": 2
}
