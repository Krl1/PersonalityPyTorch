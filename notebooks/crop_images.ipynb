{
 "cells": [
  {
   "cell_type": "code",
   "execution_count": 1,
   "metadata": {},
   "outputs": [
    {
     "name": "stdout",
     "output_type": "stream",
     "text": [
      "Applied providers: ['CPUExecutionProvider'], with options: {'CPUExecutionProvider': {}}\n"
     ]
    },
    {
     "name": "stderr",
     "output_type": "stream",
     "text": [
      "/home/kkulawiec/.conda/envs/py39/lib/python3.9/site-packages/onnxruntime/capi/onnxruntime_inference_collection.py:55: UserWarning: Specified provider 'CUDAExecutionProvider' is not in available provider names.Available providers: 'CPUExecutionProvider'\n",
      "  warnings.warn(\"Specified provider '{}' is not in available provider names.\"\n"
     ]
    }
   ],
   "source": [
    "import argparse\n",
    "from pathlib import Path\n",
    "from matplotlib import pyplot as plt\n",
    "from PIL import Image, ImageOps\n",
    "import os\n",
    "import glob\n",
    "import cv2\n",
    "import numpy as np\n",
    "from tqdm import tqdm\n",
    "import fnmatch\n",
    "from face_detection import FaceDetection\n",
    "from params import RANDOM_SEED, LocationConfig, CreateDataConfig"
   ]
  },
  {
   "cell_type": "code",
   "execution_count": 2,
   "metadata": {},
   "outputs": [],
   "source": [
    "def load_img(path: Path) -> np.ndarray:\n",
    "    if not path.exists():\n",
    "        raise Exception(f\"Given file: '{path}' - does not exists!\")\n",
    "    return cv2.imread(str(path))"
   ]
  },
  {
   "cell_type": "code",
   "execution_count": 3,
   "metadata": {},
   "outputs": [],
   "source": [
    "list_of_face_shapes = [[],[],[]]"
   ]
  },
  {
   "cell_type": "code",
   "execution_count": 4,
   "metadata": {},
   "outputs": [],
   "source": [
    "def resize(image: np.ndarray) -> np.ndarray:\n",
    "    img = Image.fromarray(np.array(image).astype(np.uint8))\n",
    "    img = img.resize((128, 128), Image.ANTIALIAS)\n",
    "    img = np.array(ImageOps.grayscale(img))\n",
    "    img = np.expand_dims(img, axis=2)\n",
    "    return img.astype(np.float32)"
   ]
  },
  {
   "cell_type": "code",
   "execution_count": 10,
   "metadata": {},
   "outputs": [],
   "source": [
    "def detect_and_crop(face_detect_app: FaceDetection, input_path: Path, output_path: str, img_num: int):\n",
    "    img = load_img(input_path)\n",
    "    faces = face_detect_app.detect_face(img)\n",
    "    if len(faces) == 0 or len(faces) > 1:\n",
    "        return\n",
    "\n",
    "    face_box = faces[0].astype(np.int32)\n",
    "    try:\n",
    "        new_img = img[face_box[1] : face_box[3], face_box[0] : face_box[2]]\n",
    "    except IndexError:\n",
    "        return\n",
    "    \n",
    "    if new_img.shape[0]<67 or new_img.shape[1]<49:\n",
    "        return\n",
    "    \n",
    "    list_of_face_shapes[0].append(img_num)\n",
    "    list_of_face_shapes[1].append(new_img.shape[0])\n",
    "    list_of_face_shapes[2].append(new_img.shape[1])\n",
    "    new_img = resize(new_img)\n",
    "    if new_img is None:\n",
    "        return\n",
    "    \n",
    "    filename = str(input_path).split('/')[-1]\n",
    "    cv2.imwrite(os.path.join(output_path,filename), new_img)"
   ]
  },
  {
   "cell_type": "code",
   "execution_count": 6,
   "metadata": {},
   "outputs": [
    {
     "name": "stdout",
     "output_type": "stream",
     "text": [
      "Applied providers: ['CPUExecutionProvider'], with options: {'CPUExecutionProvider': {}}\n"
     ]
    }
   ],
   "source": [
    "face_detector = FaceDetection()"
   ]
  },
  {
   "cell_type": "code",
   "execution_count": 7,
   "metadata": {},
   "outputs": [
    {
     "name": "stderr",
     "output_type": "stream",
     "text": [
      "18it [00:00, 54629.14it/s]\n"
     ]
    }
   ],
   "source": [
    "total_f=0\n",
    "for image_path in tqdm(Path('dataset/wlasne_dane/images/').glob('*.jpg')):\n",
    "    total_f += 1"
   ]
  },
  {
   "cell_type": "code",
   "execution_count": 11,
   "metadata": {},
   "outputs": [
    {
     "name": "stderr",
     "output_type": "stream",
     "text": [
      "100%|██████████| 18/18 [00:01<00:00, 10.04it/s]\n"
     ]
    }
   ],
   "source": [
    "i=0\n",
    "for image_path in tqdm(Path('dataset/wlasne_dane/images/').glob('*.jpg'), total=total_f):\n",
    "    detect_and_crop(face_detector, image_path, 'my_crop_data/', i)\n",
    "    i+=1"
   ]
  },
  {
   "cell_type": "code",
   "execution_count": 9,
   "metadata": {},
   "outputs": [
    {
     "data": {
      "text/plain": [
       "[[0, 1, 2, 3, 4, 5, 6, 7, 8, 9, 10, 11, 12, 13, 14, 15, 16, 17],\n",
       " [293,\n",
       "  1783,\n",
       "  968,\n",
       "  1159,\n",
       "  294,\n",
       "  145,\n",
       "  225,\n",
       "  295,\n",
       "  180,\n",
       "  217,\n",
       "  303,\n",
       "  257,\n",
       "  680,\n",
       "  123,\n",
       "  169,\n",
       "  279,\n",
       "  1890,\n",
       "  162],\n",
       " [204,\n",
       "  1115,\n",
       "  685,\n",
       "  847,\n",
       "  225,\n",
       "  105,\n",
       "  164,\n",
       "  193,\n",
       "  128,\n",
       "  149,\n",
       "  216,\n",
       "  186,\n",
       "  485,\n",
       "  90,\n",
       "  129,\n",
       "  202,\n",
       "  1200,\n",
       "  124]]"
      ]
     },
     "execution_count": 9,
     "metadata": {},
     "output_type": "execute_result"
    }
   ],
   "source": [
    "list_of_face_shapes"
   ]
  }
 ],
 "metadata": {
  "interpreter": {
   "hash": "17c86be10898ce801771adcf76c16a8364cc4401ea312904bbbb2c75f131c156"
  },
  "kernelspec": {
   "display_name": "py39",
   "language": "python",
   "name": "python3"
  },
  "language_info": {
   "codemirror_mode": {
    "name": "ipython",
    "version": 3
   },
   "file_extension": ".py",
   "mimetype": "text/x-python",
   "name": "python",
   "nbconvert_exporter": "python",
   "pygments_lexer": "ipython3",
   "version": "3.8.5"
  }
 },
 "nbformat": 4,
 "nbformat_minor": 2
}
